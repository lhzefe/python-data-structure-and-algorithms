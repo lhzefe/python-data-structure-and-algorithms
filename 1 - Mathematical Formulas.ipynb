{
 "cells": [
  {
   "cell_type": "markdown",
   "metadata": {},
   "source": [
    "<h1>Python Exercises</h1>\n",
    "<h2>Mathematical Formulas (15 exercises)</h2>"
   ]
  },
  {
   "cell_type": "code",
   "execution_count": 115,
   "metadata": {},
   "outputs": [],
   "source": [
    "import math"
   ]
  },
  {
   "cell_type": "markdown",
   "metadata": {},
   "source": [
    "<h4>\n",
    "1. Write a program that prompts the user for two numbers and displays the addition, subtraction, multiplication, and division between them.\n",
    "</h4>"
   ]
  },
  {
   "cell_type": "code",
   "execution_count": null,
   "metadata": {},
   "outputs": [],
   "source": [
    "number_one = int(input(\"Insert the first number:\"))\n",
    "number_two = int(input(\"Insert the second number:\"))"
   ]
  },
  {
   "cell_type": "code",
   "execution_count": null,
   "metadata": {},
   "outputs": [],
   "source": [
    "addition = number_one + number_two\n",
    "subtraction = number_one - number_two\n",
    "multiplication = number_one * number_two\n",
    "if (number_two!=0):\n",
    "    division = float(\"{:.2f}\".format(number_one / number_two))\n",
    "else:\n",
    "    division = \"It is not possible to divide a number by 0.\"\n",
    "list_type = [type(addition), type(subtraction), type(multiplication), type(division)] "
   ]
  },
  {
   "cell_type": "code",
   "execution_count": null,
   "metadata": {
    "scrolled": true
   },
   "outputs": [],
   "source": [
    "print(list_type)\n",
    "print(f\"The addition result is: {addition}\")\n",
    "print(\"The subtraction result is: {}\".format(subtraction))\n",
    "print(\"The multiplication result is:\", multiplication)\n",
    "print(\"The division result is: {}\".format(division))"
   ]
  },
  {
   "cell_type": "markdown",
   "metadata": {},
   "source": [
    "<h4>2. Write a program that calculates the arithmetic average of two numbers.</h4>"
   ]
  },
  {
   "cell_type": "code",
   "execution_count": null,
   "metadata": {},
   "outputs": [],
   "source": [
    "number_one = int(input(\"Insert the first number:\"))\n",
    "number_two = int(input(\"Insert the second number:\"))"
   ]
  },
  {
   "cell_type": "code",
   "execution_count": null,
   "metadata": {},
   "outputs": [],
   "source": [
    "average = float(\"{:.2f}\".format((number_one + number_two) / 2))"
   ]
  },
  {
   "cell_type": "code",
   "execution_count": null,
   "metadata": {},
   "outputs": [],
   "source": [
    "print (\"The average of the sum between {} and {} is: {}\".format(number_one, number_two, average))"
   ]
  },
  {
   "cell_type": "markdown",
   "metadata": {},
   "source": [
    "<h4>3. Create a program that calculates and displays the arithmetic average of three user-informed notes.</h4>"
   ]
  },
  {
   "cell_type": "code",
   "execution_count": null,
   "metadata": {},
   "outputs": [],
   "source": [
    "number_one = int(input(\"Insert the first number:\"))\n",
    "number_two = int(input(\"Insert the second number:\"))\n",
    "number_three = int(input(\"Insert the third number:\"))"
   ]
  },
  {
   "cell_type": "code",
   "execution_count": null,
   "metadata": {},
   "outputs": [],
   "source": [
    "average = float(\"{:.2f}\".format((number_one+number_two+number_three)/3))"
   ]
  },
  {
   "cell_type": "code",
   "execution_count": null,
   "metadata": {},
   "outputs": [],
   "source": [
    "print(f\"The average of the sum between {number_one}, {number_two} and {number_three} is: {average}\")"
   ]
  },
  {
   "cell_type": "markdown",
   "metadata": {},
   "source": [
    "<h4>4. Write a program that calculates the geometric average of three numbers informed by the user</h4>"
   ]
  },
  {
   "cell_type": "code",
   "execution_count": null,
   "metadata": {},
   "outputs": [],
   "source": [
    "number_one = float(input(\"Insert the first number:\"))\n",
    "number_two = float(input(\"Insert the second number:\"))\n",
    "number_three = float(input(\"Insert the third number:\"))"
   ]
  },
  {
   "cell_type": "code",
   "execution_count": null,
   "metadata": {},
   "outputs": [],
   "source": [
    "geometric_average = float(\"{:.4f}\".format((number_one*number_two*number_three)**(1/3)))\n",
    "geometric_average_math_lib = math.pow((number_one*number_two*number_three), (1/3))"
   ]
  },
  {
   "cell_type": "code",
   "execution_count": null,
   "metadata": {},
   "outputs": [],
   "source": [
    "print(f\"The geometrical average of {number_one}, {number_two} and {number_three} is: {geometric_average}\")\n",
    "print(\"The geometrical average of {:.0f}, {:.1f} and {:.2f} is: {:.5f}\".format(number_one, number_two, number_three, float(geometric_average_math_lib)))"
   ]
  },
  {
   "cell_type": "markdown",
   "metadata": {},
   "source": [
    "<h4>5. Write a program that calculates an individual's BMI, using the formula BMI = weight / height²</h4>"
   ]
  },
  {
   "cell_type": "code",
   "execution_count": null,
   "metadata": {},
   "outputs": [],
   "source": [
    "weight = float(input(\"Insert your weight:\"))\n",
    "height = float(input(\"Insert your height:\"))"
   ]
  },
  {
   "cell_type": "code",
   "execution_count": null,
   "metadata": {},
   "outputs": [],
   "source": [
    "bmi = weight / (height**2)"
   ]
  },
  {
   "cell_type": "code",
   "execution_count": null,
   "metadata": {},
   "outputs": [],
   "source": [
    "print(f\"Your Body Mass Index is: {bmi}\")"
   ]
  },
  {
   "cell_type": "markdown",
   "metadata": {},
   "source": [
    "<h4>6. Create a program that calculates and displays the perimeter of a circle, asking the user for the radius.</h4>"
   ]
  },
  {
   "cell_type": "code",
   "execution_count": null,
   "metadata": {},
   "outputs": [],
   "source": [
    "radius = float(input(\"Insert a radius to be used: \"))"
   ]
  },
  {
   "cell_type": "code",
   "execution_count": null,
   "metadata": {},
   "outputs": [],
   "source": [
    "perimeter_circle = (2*math.pi*radius)"
   ]
  },
  {
   "cell_type": "code",
   "execution_count": null,
   "metadata": {},
   "outputs": [],
   "source": [
    "print(\"The circle's perimeter using radius = {:.2f} is: {:.2f}\".format(radius, perimeter_circle ))"
   ]
  },
  {
   "cell_type": "markdown",
   "metadata": {},
   "source": [
    "<h4>7. Write a program that calculates the area of a circle from the radius, using the formula a = πr²</h4>"
   ]
  },
  {
   "cell_type": "code",
   "execution_count": null,
   "metadata": {},
   "outputs": [],
   "source": [
    "radius = float(input(\"Insert a radius to be used: \"))"
   ]
  },
  {
   "cell_type": "code",
   "execution_count": null,
   "metadata": {},
   "outputs": [],
   "source": [
    "area_circle = math.pi*radius**2 "
   ]
  },
  {
   "cell_type": "code",
   "execution_count": null,
   "metadata": {},
   "outputs": [],
   "source": [
    "print(\"The circle's area using radius = {:.2f} is: {:.2f}\".format(radius, area_circle))"
   ]
  },
  {
   "cell_type": "markdown",
   "metadata": {},
   "source": [
    "<h4>8. Write a program that calculates the delta of a second degree equation (δ = b² - 4ac).</h4>"
   ]
  },
  {
   "cell_type": "code",
   "execution_count": null,
   "metadata": {},
   "outputs": [],
   "source": [
    "a = float(input(\"Enter a value for the linear coefficient\"))\n",
    "b = float(input(\"Enter a value for the quadritic coefficient\"))\n",
    "c = float(input(\"Enter a value for the static coefficient\"))"
   ]
  },
  {
   "cell_type": "code",
   "execution_count": null,
   "metadata": {},
   "outputs": [],
   "source": [
    "delta = b**2 - 4*a*c"
   ]
  },
  {
   "cell_type": "code",
   "execution_count": null,
   "metadata": {},
   "outputs": [],
   "source": [
    "print(f\"The value of Delta for the entries {a}, {b} and {c} is: {delta}\")"
   ]
  },
  {
   "cell_type": "markdown",
   "metadata": {},
   "source": [
    "<h4>9. Write a program that calculates the perimeter and area of a rectangle, using the formulas P = 2(L + W) and A = LW, where L is the width and C is the length</h4>"
   ]
  },
  {
   "cell_type": "code",
   "execution_count": null,
   "metadata": {},
   "outputs": [],
   "source": [
    "length, width =  float(input(\"Enter a value for the rectangle's length: \")), float(input(\"Enter a value for the rectangle's width: \"))"
   ]
  },
  {
   "cell_type": "code",
   "execution_count": null,
   "metadata": {},
   "outputs": [],
   "source": [
    "perimeter_rectangle = 2*(length+width)\n",
    "area_rectangle = length*width"
   ]
  },
  {
   "cell_type": "code",
   "execution_count": null,
   "metadata": {},
   "outputs": [],
   "source": [
    "print(\"The perimeter and area of the rectangle are respectively: \",perimeter_rectangle, \" and \",area_rectangle)"
   ]
  },
  {
   "cell_type": "markdown",
   "metadata": {},
   "source": [
    "<h4>10. Write a program that calculates the perimeter and area of a triangle, using the formulas P = A + B + C and A = (B * H) / 2, where A, B and C are the sides of the triangle and H is the height relative to side B.</h4>"
   ]
  },
  {
   "cell_type": "code",
   "execution_count": null,
   "metadata": {},
   "outputs": [],
   "source": [
    "side_a = float(input(\"Enter a value for the first side of the triangle: \"))\n",
    "side_b = float(input(\"Enter a value for the second side of the triangle: \"))\n",
    "side_c = float(input(\"Enter a value for the third side of the triangle: \"))\n",
    "height = float(input(\"Insert the triangle height relative to the side B: \"))"
   ]
  },
  {
   "cell_type": "code",
   "execution_count": null,
   "metadata": {},
   "outputs": [],
   "source": [
    "perimeter_triangle = side_a + side_b + side_c\n",
    "area_triangle = (side_b*height)/2"
   ]
  },
  {
   "cell_type": "code",
   "execution_count": null,
   "metadata": {},
   "outputs": [],
   "source": [
    "print(\"The perimeter and area of the triangle are respectively: \",perimeter_triangle, \" and \",area_triangle)"
   ]
  },
  {
   "cell_type": "markdown",
   "metadata": {},
   "source": [
    "<h4>11. Write a program that calculates the average speed of an object, using the formula S = ΔD/ΔT, where S is the average velocity, ΔD is the variation of space and Δt is the time variation</h4>"
   ]
  },
  {
   "cell_type": "code",
   "execution_count": null,
   "metadata": {},
   "outputs": [],
   "source": [
    "delta_distance = float(input(\"Enter a value for the space travelled by the car in kilometres: \"))\n",
    "delta_time = float(input(\"Enter a value for the time (in hours) it took the car to travel the distance previously mentioned: \"))"
   ]
  },
  {
   "cell_type": "code",
   "execution_count": null,
   "metadata": {},
   "outputs": [],
   "source": [
    "car_speed = delta_distance/delta_time"
   ]
  },
  {
   "cell_type": "code",
   "execution_count": null,
   "metadata": {},
   "outputs": [],
   "source": [
    "print(\"The average speed running by the car was: {:.1f} km/h\".format(car_speed))"
   ]
  },
  {
   "cell_type": "markdown",
   "metadata": {},
   "source": [
    "<h4>12. Write a program that calculates the kinetic energy of an object in motion, using the formula E = (mV²) / 2, where E is the kinetic energy, M is the mass of the object and V is the Velocity.</h4>"
   ]
  },
  {
   "cell_type": "code",
   "execution_count": null,
   "metadata": {},
   "outputs": [],
   "source": [
    "object_mass = float(input(\"Enter the mass(Kilograms) of the object: \"))\n",
    "object_speed = float(input(\"Enter the speed(metres per second) of the object: \"))"
   ]
  },
  {
   "cell_type": "code",
   "execution_count": null,
   "metadata": {},
   "outputs": [],
   "source": [
    "kinetic_energy = (object_mass*(object_speed**2))/2"
   ]
  },
  {
   "cell_type": "code",
   "execution_count": null,
   "metadata": {},
   "outputs": [],
   "source": [
    "print(\"The kinetic energy of the object is: {:.1f} Joules\".format(kinetic_energy))"
   ]
  },
  {
   "cell_type": "markdown",
   "metadata": {},
   "source": [
    "<h4>13. Write a program that calculates the work done by a force acting on an object, using the formula t = f * d, where t is the work, f is the force applied and d is the distance traveled by the object.</h4>"
   ]
  },
  {
   "cell_type": "code",
   "execution_count": null,
   "metadata": {},
   "outputs": [],
   "source": [
    "force_apply = float(input(\"Enter the force(Newtons) applied to the object: \"))\n",
    "distance_travel = float(input(\"Enter the distance(Metres) travelled by the object: \"))"
   ]
  },
  {
   "cell_type": "code",
   "execution_count": null,
   "metadata": {},
   "outputs": [],
   "source": [
    "work_done =  force_apply * distance_travel"
   ]
  },
  {
   "cell_type": "code",
   "execution_count": null,
   "metadata": {},
   "outputs": [],
   "source": [
    "print(f\"The work done by the force acting to the object was: {work_done} Joules\")"
   ]
  },
  {
   "cell_type": "markdown",
   "metadata": {},
   "source": [
    "<h4>14. Write a program that reads the X and Y position of two points on the Cartesian plane, and calculate the distance between them.</h4>"
   ]
  },
  {
   "cell_type": "code",
   "execution_count": null,
   "metadata": {},
   "outputs": [],
   "source": [
    "first_position_x = float(input(\"Enter the position X1 on Carsian plane: \"))\n",
    "second_position_x = float(input(\"Enter the position X2 on Carsian plane: \"))\n",
    "first_position_y = float(input(\"Enter the position Y1 on Carsian plane: \"))\n",
    "second_position_y = float(input(\"Enter the position Y2 on Carsian plane: \"))"
   ]
  },
  {
   "cell_type": "code",
   "execution_count": null,
   "metadata": {},
   "outputs": [],
   "source": [
    "distance_xy = math.sqrt((second_position_x - first_position_x)**2 + (second_position_y - first_position_y)**2)"
   ]
  },
  {
   "cell_type": "code",
   "execution_count": null,
   "metadata": {},
   "outputs": [],
   "source": [
    "print(f\"The distance between X and Y on Cartesian plane is: {distance_xy}\")"
   ]
  },
  {
   "cell_type": "markdown",
   "metadata": {},
   "source": [
    "<h4>15. Create a program that asks the user for the radius value of a sphere and calculates and displays its volume.</h4>"
   ]
  },
  {
   "cell_type": "code",
   "execution_count": null,
   "metadata": {},
   "outputs": [],
   "source": [
    "radius_sphere = float(input(\"Enter a value for the Sphere's radius: \"))"
   ]
  },
  {
   "cell_type": "code",
   "execution_count": null,
   "metadata": {},
   "outputs": [],
   "source": [
    "volume_sphere = (4*math.pi*radius_sphere**3)/3"
   ]
  },
  {
   "cell_type": "code",
   "execution_count": null,
   "metadata": {},
   "outputs": [],
   "source": [
    "print(\"The volume of the Sphere by using the radius {:.2f} is: {:.2f} m³\".format(radius_sphere, volume_sphere))"
   ]
  }
 ],
 "metadata": {
  "kernelspec": {
   "display_name": "Python 3 (ipykernel)",
   "language": "python",
   "name": "python3"
  },
  "language_info": {
   "codemirror_mode": {
    "name": "ipython",
    "version": 3
   },
   "file_extension": ".py",
   "mimetype": "text/x-python",
   "name": "python",
   "nbconvert_exporter": "python",
   "pygments_lexer": "ipython3",
   "version": "3.9.16"
  },
  "widgets": {
   "application/vnd.jupyter.widget-state+json": {
    "state": {},
    "version_major": 2,
    "version_minor": 0
   }
  }
 },
 "nbformat": 4,
 "nbformat_minor": 2
}
