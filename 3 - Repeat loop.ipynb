{
 "cells": [
  {
   "cell_type": "markdown",
   "metadata": {},
   "source": [
    "<h1>Python Exercises</h1>\n",
    "<h2>Repeat Loop (25 exercises)</h2>"
   ]
  },
  {
   "cell_type": "markdown",
   "metadata": {},
   "source": [
    "<h4>1. Write a program that displays the numbers from 1 to 10 using a repeat loop</h4>"
   ]
  },
  {
   "cell_type": "code",
   "execution_count": null,
   "metadata": {},
   "outputs": [],
   "source": [
    "for number in range(1,11):\n",
    "    print (number)"
   ]
  },
  {
   "cell_type": "code",
   "execution_count": null,
   "metadata": {},
   "outputs": [],
   "source": [
    "[number for number in range(1,11)]"
   ]
  },
  {
   "cell_type": "code",
   "execution_count": null,
   "metadata": {},
   "outputs": [],
   "source": [
    "number = 1\n",
    "while number <= 10:\n",
    "    print (number)\n",
    "    number+=1"
   ]
  },
  {
   "cell_type": "markdown",
   "metadata": {},
   "source": [
    "<h4>2. Write a program that displays all the numbers from 1 to 100</h4>"
   ]
  },
  {
   "cell_type": "code",
   "execution_count": null,
   "metadata": {},
   "outputs": [],
   "source": [
    "for number in range(1,101):\n",
    "    print (number)"
   ]
  },
  {
   "cell_type": "code",
   "execution_count": null,
   "metadata": {},
   "outputs": [],
   "source": [
    "[number for number in range(1,101)]"
   ]
  },
  {
   "cell_type": "code",
   "execution_count": null,
   "metadata": {},
   "outputs": [],
   "source": [
    "number = 1\n",
    "while number <= 100:\n",
    "    print (number)\n",
    "    number+=1"
   ]
  },
  {
   "cell_type": "markdown",
   "metadata": {},
   "source": [
    "<h4>3. Write a program that displays all the even numbers from 1 to 100.</h4>"
   ]
  },
  {
   "cell_type": "code",
   "execution_count": null,
   "metadata": {},
   "outputs": [],
   "source": [
    "for number in range(1,101):\n",
    "    if number % 2 == 0:\n",
    "        print(number)"
   ]
  },
  {
   "cell_type": "code",
   "execution_count": null,
   "metadata": {},
   "outputs": [],
   "source": [
    "[number for number in range(2,101,2)]"
   ]
  },
  {
   "cell_type": "code",
   "execution_count": null,
   "metadata": {},
   "outputs": [],
   "source": [
    "number = 2\n",
    "while number <= 100:\n",
    "    print (number)\n",
    "    number+=2"
   ]
  },
  {
   "cell_type": "markdown",
   "metadata": {},
   "source": [
    "<h4>4. Write a program that displays the even numbers from 1 to 50 and the odd numbers from 51 to 100 using a repeat loop.</h4>"
   ]
  },
  {
   "cell_type": "code",
   "execution_count": null,
   "metadata": {},
   "outputs": [],
   "source": [
    "for number in range(1,101):\n",
    "    if number < 51 and number % 2 == 0:\n",
    "        print(number)\n",
    "    elif number >= 51 and number % 2 != 0:\n",
    "        print (number)"
   ]
  },
  {
   "cell_type": "code",
   "execution_count": null,
   "metadata": {},
   "outputs": [],
   "source": [
    "for number in range(2,51,2):\n",
    "    print(number)\n",
    "for number in range(51,101,2):\n",
    "    print(number)"
   ]
  },
  {
   "cell_type": "markdown",
   "metadata": {},
   "source": [
    "<h4>5. Create a program that asks the user for a number and displays the multiplication table until ten of that number using a repetition loop.</h4>"
   ]
  },
  {
   "cell_type": "code",
   "execution_count": null,
   "metadata": {},
   "outputs": [],
   "source": [
    "number = int(input(\"Enter a number to see the multiplication table: \"))"
   ]
  },
  {
   "cell_type": "code",
   "execution_count": null,
   "metadata": {},
   "outputs": [],
   "source": [
    "for x in range(11):\n",
    "    print (f\"{number} x {x} = {number*x}\")"
   ]
  },
  {
   "cell_type": "code",
   "execution_count": null,
   "metadata": {},
   "outputs": [],
   "source": [
    "[number*x for x in range(11)]"
   ]
  },
  {
   "cell_type": "code",
   "execution_count": null,
   "metadata": {},
   "outputs": [],
   "source": [
    "x=0\n",
    "while x < 11:\n",
    "    print (f\"{number} x {x} = {number*x}\")\n",
    "    x += 1"
   ]
  },
  {
   "cell_type": "markdown",
   "metadata": {},
   "source": [
    "<h4>6. Write a program that prints on the screen the multiplication table of all the numbers from 1 to 10</h4>"
   ]
  },
  {
   "cell_type": "code",
   "execution_count": null,
   "metadata": {},
   "outputs": [],
   "source": [
    "for number in range(11):\n",
    "    for x in range(11):\n",
    "        print (f\"{number} x {x} = {number*x}\")"
   ]
  },
  {
   "cell_type": "code",
   "execution_count": null,
   "metadata": {},
   "outputs": [],
   "source": [
    "[[number*x for number in range(11)] for x in range(11)]"
   ]
  },
  {
   "cell_type": "code",
   "execution_count": null,
   "metadata": {},
   "outputs": [],
   "source": [
    "number = 0\n",
    "while number < 11:\n",
    "    x = 0\n",
    "    while x < 11:\n",
    "        print (f\"{number} x {x} = {number*x}\")\n",
    "        x+=1\n",
    "    number+=1"
   ]
  },
  {
   "cell_type": "markdown",
   "metadata": {},
   "source": [
    "<h4>7. Write a program that asks the user for a number N and displays the sum of all the numbers from 1 to N.</h4>"
   ]
  },
  {
   "cell_type": "code",
   "execution_count": null,
   "metadata": {},
   "outputs": [],
   "source": [
    "number_n = int(input(\"Enter a number where all numbers4 until of it (include the number typed) will be summed:\"))"
   ]
  },
  {
   "cell_type": "code",
   "execution_count": null,
   "metadata": {},
   "outputs": [],
   "source": [
    "for x in range(1, number_n):\n",
    "    number_n+=x\n",
    "print (f\"The sum of all numbers is: {number_n}\")"
   ]
  },
  {
   "cell_type": "code",
   "execution_count": null,
   "metadata": {},
   "outputs": [],
   "source": [
    "for x in range(1, number_n):number_n+=x \n",
    "print (f\"The sum of all numbers is: {number_n}\")"
   ]
  },
  {
   "cell_type": "markdown",
   "metadata": {},
   "source": [
    "<h4>8. Make a program that calculates and displays the sum of even numbers from 1 to 100 using a repeat loop.</h4>"
   ]
  },
  {
   "cell_type": "code",
   "execution_count": null,
   "metadata": {},
   "outputs": [],
   "source": [
    "number=0\n",
    "for x in range(2,101,2): number+=x\n",
    "print (\"The sum of all evens since 1 until 100 is: \", number)"
   ]
  },
  {
   "cell_type": "code",
   "execution_count": null,
   "metadata": {},
   "outputs": [],
   "source": [
    "number = 0\n",
    "for x in range(1,101):\n",
    "    if x%2 == 0 :\n",
    "        number+=x \n",
    "print (\"The sum of all evens since 1 until 100 is: \", number)"
   ]
  },
  {
   "cell_type": "code",
   "execution_count": null,
   "metadata": {},
   "outputs": [],
   "source": [
    "number = 0\n",
    "for x in range(1,101): number+=x if x%2 == 0 else 0\n",
    "print (\"The sum of all evens since 1 until 100 is: \", number)"
   ]
  },
  {
   "cell_type": "code",
   "execution_count": null,
   "metadata": {},
   "outputs": [],
   "source": [
    "number,x = 0,0\n",
    "while x < 101:\n",
    "    if x % 2 == 0: number+=x\n",
    "    x+=1\n",
    "print (\"The sum of all evens since 1 until 100 is: \", number)"
   ]
  },
  {
   "cell_type": "markdown",
   "metadata": {},
   "source": [
    "<h4>9. Write a program that calculates and displays the value of the power of a number entered by the user raised to an exponent also entered by the user, using repetition loops. </h4>"
   ]
  },
  {
   "cell_type": "code",
   "execution_count": null,
   "metadata": {},
   "outputs": [],
   "source": [
    "number = int(input(\"Enter a number: \"))\n",
    "expoent = int(input(\"Enter a value for the power: \"))"
   ]
  },
  {
   "cell_type": "code",
   "execution_count": null,
   "metadata": {},
   "outputs": [],
   "source": [
    "number_powered = 1\n",
    "if expoent > 0:\n",
    "    for x in range(expoent): number_powered*=number\n",
    "elif expoent < 0:\n",
    "    for x in range(expoent*-1): number_powered*=(1/number)\n",
    "print(f\"The number {number} power by {expoent} is equals to: {number_powered}\")"
   ]
  },
  {
   "cell_type": "code",
   "execution_count": null,
   "metadata": {},
   "outputs": [],
   "source": [
    "number_powered = 1\n",
    "if expoent > 0:\n",
    "    for x in range(expoent):\n",
    "        number_powered *= number\n",
    "elif expoent < 0:\n",
    "    for x in range(expoent*-1): \n",
    "        number_powered /= number\n",
    "print(f\"The number {number} power by {expoent} is equals to: {number_powered}\")"
   ]
  },
  {
   "cell_type": "code",
   "execution_count": null,
   "metadata": {},
   "outputs": [],
   "source": [
    "number_powered = 1\n",
    "x=0\n",
    "if expoent > 0:\n",
    "    while x < expoent:\n",
    "        number_powered *= number\n",
    "        x+=1\n",
    "elif expoent < 0:\n",
    "    while x > expoent:\n",
    "        number_powered /= number\n",
    "        x-=1\n",
    "print(f\"The number {number} power by {expoent} is equals to: {number_powered}\")"
   ]
  },
  {
   "cell_type": "markdown",
   "metadata": {},
   "source": [
    "<h4>10. Write a program that asks the user for a number N and tells whether it is prime or not.</h4>"
   ]
  },
  {
   "cell_type": "code",
   "execution_count": null,
   "metadata": {},
   "outputs": [],
   "source": [
    "number_n = int(input(\"Enter a number to check if it is prime or not: \"))"
   ]
  },
  {
   "cell_type": "code",
   "execution_count": null,
   "metadata": {},
   "outputs": [],
   "source": [
    "prime = True\n",
    "if number_n == 1:\n",
    "    prime = False\n",
    "else:\n",
    "    for x in range(2, number_n): \n",
    "        if number_n % x == 0:\n",
    "            prime = False\n",
    "            break\n",
    "if prime:\n",
    "    print(f\"{number_n} is prime\")\n",
    "else:\n",
    "    print(f\"{number_n} is not prime\") "
   ]
  },
  {
   "cell_type": "code",
   "execution_count": null,
   "metadata": {},
   "outputs": [],
   "source": [
    "prime = True\n",
    "if number_n == 1: prime = False\n",
    "else:\n",
    "    x=2\n",
    "    while x < number_n:\n",
    "        if number_n % x == 0:\n",
    "            prime = False\n",
    "            break\n",
    "        x+=1\n",
    "print(f\"{number_n} is prime\") if prime else print(f\"{number_n} is not prime\")"
   ]
  },
  {
   "cell_type": "markdown",
   "metadata": {},
   "source": [
    "<h4>11. Write a program that asks the user for a number N and displays all the prime numbers smaller than N.</h4>"
   ]
  },
  {
   "cell_type": "markdown",
   "metadata": {},
   "source": [
    "<h4>12. Create a program that displays the first N prime numbers, where N is entered by the user, using a repetition loop.</h4>"
   ]
  },
  {
   "cell_type": "markdown",
   "metadata": {},
   "source": [
    "<h4>13. Create a program that displays the first N perfect squares, where N is entered by the user, using a repetition loop.</h4>"
   ]
  },
  {
   "cell_type": "markdown",
   "metadata": {},
   "source": [
    "<h4>14. Write a program that asks the user for two numbers A and B and displays all the numbers between A and B. </h4>"
   ]
  },
  {
   "cell_type": "markdown",
   "metadata": {},
   "source": [
    "<h4>15. Write a program that reads numbers from the user until a negative number is entered, and displays the sum of the positive numbers.</h4>"
   ]
  },
  {
   "cell_type": "markdown",
   "metadata": {},
   "source": [
    "<h4>16. Make a program that asks the user for a number and displays the Fibonacci sequence up to the given number using a repeat loop.</h4>"
   ]
  },
  {
   "cell_type": "markdown",
   "metadata": {},
   "source": [
    "<h4>17. Write a program that reads numbers from the user until zero is entered, and displays the average of the numbers entered.</h4>"
   ]
  },
  {
   "cell_type": "markdown",
   "metadata": {},
   "source": [
    "<h4>18. Write a program that asks the user for a list of numbers, until the user types the number zero, and displays the largest and smallest numbers in the list.</h4>"
   ]
  },
  {
   "cell_type": "markdown",
   "metadata": {},
   "source": [
    "<h4>19. Write a program that asks the user for a sentence and displays the number of vowels in the sentence.</h4>"
   ]
  },
  {
   "cell_type": "markdown",
   "metadata": {},
   "source": [
    "<h4>20. Write a program that asks the user for a number and displays its divisors.</h4>"
   ]
  },
  {
   "cell_type": "markdown",
   "metadata": {},
   "source": [
    "<h4>21. Make a program that determines the lowest common multiple (LCM) between two numbers entered by the user.</h4>"
   ]
  },
  {
   "cell_type": "markdown",
   "metadata": {},
   "source": [
    "<h4>22. Make a program that determines the maximum common divisor (MDC) between two numbers entered by the user.</h4>"
   ]
  },
  {
   "cell_type": "markdown",
   "metadata": {},
   "source": [
    "<h4>23. Make a program that calculates the series below up to the tenth element:</h4>"
   ]
  },
  {
   "cell_type": "markdown",
   "metadata": {},
   "source": [
    "![repeat_loop_23.png](images/repeat_loop_23.png)"
   ]
  },
  {
   "cell_type": "markdown",
   "metadata": {},
   "source": [
    "<h4>24. Rewrite the code from the previous exercise until the difference between the terms is less than 0.001.</h4>"
   ]
  },
  {
   "cell_type": "markdown",
   "metadata": {},
   "source": [
    "<h4>25. Make a program that calculates the value of sine using Taylor's series according to the equation below the tenth term:</h4>"
   ]
  },
  {
   "cell_type": "markdown",
   "metadata": {},
   "source": [
    "![repeat_loop_25.png](images/repeat_loop_25.png)"
   ]
  }
 ],
 "metadata": {
  "kernelspec": {
   "display_name": "DataScience",
   "language": "python",
   "name": "python3"
  },
  "language_info": {
   "codemirror_mode": {
    "name": "ipython",
    "version": 3
   },
   "file_extension": ".py",
   "mimetype": "text/x-python",
   "name": "python",
   "nbconvert_exporter": "python",
   "pygments_lexer": "ipython3",
   "version": "3.9.16"
  },
  "orig_nbformat": 4
 },
 "nbformat": 4,
 "nbformat_minor": 2
}
