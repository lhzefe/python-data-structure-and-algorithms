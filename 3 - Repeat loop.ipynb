{
 "cells": [
  {
   "cell_type": "markdown",
   "metadata": {},
   "source": [
    "<h1>Python Exercises</h1>\n",
    "<h2>Repeat Loop (25 exercises)</h2>"
   ]
  },
  {
   "cell_type": "markdown",
   "metadata": {},
   "source": [
    "<h4>1. Write a program that displays the numbers from 1 to 10 using a repeat loop</h4>"
   ]
  },
  {
   "cell_type": "code",
   "execution_count": null,
   "metadata": {},
   "outputs": [],
   "source": [
    "for number in range(1,11):\n",
    "    print (number)"
   ]
  },
  {
   "cell_type": "code",
   "execution_count": null,
   "metadata": {},
   "outputs": [],
   "source": [
    "[number for number in range(1,11)]"
   ]
  },
  {
   "cell_type": "code",
   "execution_count": null,
   "metadata": {},
   "outputs": [],
   "source": [
    "number = 1\n",
    "while number <= 10:\n",
    "    print (number)\n",
    "    number+=1"
   ]
  },
  {
   "cell_type": "markdown",
   "metadata": {},
   "source": [
    "<h4>2. Write a program that displays all the numbers from 1 to 100</h4>"
   ]
  },
  {
   "cell_type": "code",
   "execution_count": null,
   "metadata": {},
   "outputs": [],
   "source": [
    "for number in range(1,101):\n",
    "    print (number)"
   ]
  },
  {
   "cell_type": "code",
   "execution_count": null,
   "metadata": {},
   "outputs": [],
   "source": [
    "[number for number in range(1,101)]"
   ]
  },
  {
   "cell_type": "code",
   "execution_count": null,
   "metadata": {},
   "outputs": [],
   "source": [
    "number = 1\n",
    "while number <= 100:\n",
    "    print (number)\n",
    "    number+=1"
   ]
  },
  {
   "cell_type": "markdown",
   "metadata": {},
   "source": [
    "<h4>3. Write a program that displays all the even numbers from 1 to 100.</h4>"
   ]
  },
  {
   "cell_type": "code",
   "execution_count": null,
   "metadata": {},
   "outputs": [],
   "source": [
    "for number in range(1,101):\n",
    "    if number % 2 == 0:\n",
    "        print(number)"
   ]
  },
  {
   "cell_type": "code",
   "execution_count": null,
   "metadata": {},
   "outputs": [],
   "source": [
    "[number for number in range(2,101,2)]"
   ]
  },
  {
   "cell_type": "code",
   "execution_count": null,
   "metadata": {},
   "outputs": [],
   "source": [
    "number = 2\n",
    "while number <= 100:\n",
    "    print (number)\n",
    "    number+=2"
   ]
  },
  {
   "cell_type": "markdown",
   "metadata": {},
   "source": [
    "<h4>4. Write a program that displays the even numbers from 1 to 50 and the odd numbers from 51 to 100 using a repeat loop.</h4>"
   ]
  },
  {
   "cell_type": "code",
   "execution_count": null,
   "metadata": {},
   "outputs": [],
   "source": [
    "for number in range(1,101):\n",
    "    if number < 51 and number % 2 == 0:\n",
    "        print(number)\n",
    "    elif number >= 51 and number % 2 != 0:\n",
    "        print (number)"
   ]
  },
  {
   "cell_type": "code",
   "execution_count": null,
   "metadata": {},
   "outputs": [],
   "source": [
    "for number in range(2,51,2):\n",
    "    print(number)\n",
    "for number in range(51,101,2):\n",
    "    print(number)"
   ]
  },
  {
   "cell_type": "markdown",
   "metadata": {},
   "source": [
    "<h4>5. Create a program that asks the user for a number and displays the multiplication table until ten of that number using a repetition loop.</h4>"
   ]
  },
  {
   "cell_type": "code",
   "execution_count": null,
   "metadata": {},
   "outputs": [],
   "source": [
    "number = int(input(\"Enter a number to see the multiplication table: \"))"
   ]
  },
  {
   "cell_type": "code",
   "execution_count": null,
   "metadata": {},
   "outputs": [],
   "source": [
    "for x in range(11):\n",
    "    print (f\"{number} x {x} = {number*x}\")"
   ]
  },
  {
   "cell_type": "code",
   "execution_count": null,
   "metadata": {},
   "outputs": [],
   "source": [
    "[number*x for x in range(11)]"
   ]
  },
  {
   "cell_type": "code",
   "execution_count": null,
   "metadata": {},
   "outputs": [],
   "source": [
    "x=0\n",
    "while x < 11:\n",
    "    print (f\"{number} x {x} = {number*x}\")\n",
    "    x += 1"
   ]
  },
  {
   "cell_type": "markdown",
   "metadata": {},
   "source": [
    "<h4>6. Write a program that prints on the screen the multiplication table of all the numbers from 1 to 10</h4>"
   ]
  },
  {
   "cell_type": "code",
   "execution_count": null,
   "metadata": {},
   "outputs": [],
   "source": [
    "for number in range(11):\n",
    "    for x in range(11):\n",
    "        print (f\"{number} x {x} = {number*x}\")"
   ]
  },
  {
   "cell_type": "code",
   "execution_count": null,
   "metadata": {},
   "outputs": [],
   "source": [
    "[[number*x for number in range(11)] for x in range(11)]"
   ]
  },
  {
   "cell_type": "code",
   "execution_count": null,
   "metadata": {},
   "outputs": [],
   "source": [
    "number = 0\n",
    "while number < 11:\n",
    "    x = 0\n",
    "    while x < 11:\n",
    "        print (f\"{number} x {x} = {number*x}\")\n",
    "        x+=1\n",
    "    number+=1"
   ]
  },
  {
   "cell_type": "markdown",
   "metadata": {},
   "source": [
    "<h4>7. Write a program that asks the user for a number N and displays the sum of all the numbers from 1 to N.</h4>"
   ]
  },
  {
   "cell_type": "code",
   "execution_count": null,
   "metadata": {},
   "outputs": [],
   "source": [
    "number_n = int(input(\"Enter a number where all numbers4 until of it (include the number typed) will be summed:\"))"
   ]
  },
  {
   "cell_type": "code",
   "execution_count": null,
   "metadata": {},
   "outputs": [],
   "source": [
    "for x in range(1, number_n):\n",
    "    number_n+=x\n",
    "print (f\"The sum of all numbers is: {number_n}\")"
   ]
  },
  {
   "cell_type": "code",
   "execution_count": null,
   "metadata": {},
   "outputs": [],
   "source": [
    "for x in range(1, number_n):number_n+=x \n",
    "print (f\"The sum of all numbers is: {number_n}\")"
   ]
  },
  {
   "cell_type": "markdown",
   "metadata": {},
   "source": [
    "<h4>8. Make a program that calculates and displays the sum of even numbers from 1 to 100 using a repeat loop.</h4>"
   ]
  },
  {
   "cell_type": "code",
   "execution_count": null,
   "metadata": {},
   "outputs": [],
   "source": [
    "number=0\n",
    "for x in range(2,101,2): number+=x\n",
    "print (\"The sum of all evens since 1 until 100 is: \", number)"
   ]
  },
  {
   "cell_type": "code",
   "execution_count": null,
   "metadata": {},
   "outputs": [],
   "source": [
    "number = 0\n",
    "for x in range(1,101):\n",
    "    if x%2 == 0 :\n",
    "        number+=x \n",
    "print (\"The sum of all evens since 1 until 100 is: \", number)"
   ]
  },
  {
   "cell_type": "code",
   "execution_count": null,
   "metadata": {},
   "outputs": [],
   "source": [
    "number = 0\n",
    "for x in range(1,101): number+=x if x%2 == 0 else 0\n",
    "print (\"The sum of all evens since 1 until 100 is: \", number)"
   ]
  },
  {
   "cell_type": "code",
   "execution_count": null,
   "metadata": {},
   "outputs": [],
   "source": [
    "number,x = 0,0\n",
    "while x < 101:\n",
    "    if x % 2 == 0: number+=x\n",
    "    x+=1\n",
    "print (\"The sum of all evens since 1 until 100 is: \", number)"
   ]
  },
  {
   "cell_type": "markdown",
   "metadata": {},
   "source": [
    "<h4>9. Write a program that calculates and displays the value of the power of a number entered by the user raised to an exponent also entered by the user, using repetition loops. </h4>"
   ]
  },
  {
   "cell_type": "code",
   "execution_count": null,
   "metadata": {},
   "outputs": [],
   "source": [
    "number = int(input(\"Enter a number: \"))\n",
    "expoent = int(input(\"Enter a value for the power: \"))"
   ]
  },
  {
   "cell_type": "code",
   "execution_count": null,
   "metadata": {},
   "outputs": [],
   "source": [
    "number_powered = 1\n",
    "if expoent > 0:\n",
    "    for x in range(expoent): number_powered*=number\n",
    "elif expoent < 0:\n",
    "    for x in range(expoent*-1): number_powered*=(1/number)\n",
    "print(f\"The number {number} power by {expoent} is equals to: {number_powered}\")"
   ]
  },
  {
   "cell_type": "code",
   "execution_count": null,
   "metadata": {},
   "outputs": [],
   "source": [
    "number_powered = 1\n",
    "if expoent > 0:\n",
    "    for x in range(expoent):\n",
    "        number_powered *= number\n",
    "elif expoent < 0:\n",
    "    for x in range(expoent*-1): \n",
    "        number_powered /= number\n",
    "print(f\"The number {number} power by {expoent} is equals to: {number_powered}\")"
   ]
  },
  {
   "cell_type": "code",
   "execution_count": null,
   "metadata": {},
   "outputs": [],
   "source": [
    "number_powered = 1\n",
    "x=0\n",
    "if expoent > 0:\n",
    "    while x < expoent:\n",
    "        number_powered *= number\n",
    "        x+=1\n",
    "elif expoent < 0:\n",
    "    while x > expoent:\n",
    "        number_powered /= number\n",
    "        x-=1\n",
    "print(f\"The number {number} power by {expoent} is equals to: {number_powered}\")"
   ]
  },
  {
   "cell_type": "markdown",
   "metadata": {},
   "source": [
    "<h4>10. Write a program that asks the user for a number N and tells whether it is prime or not.</h4>"
   ]
  },
  {
   "cell_type": "code",
   "execution_count": null,
   "metadata": {},
   "outputs": [],
   "source": [
    "number_n = int(input(\"Enter a number to check if it is prime or not: \"))"
   ]
  },
  {
   "cell_type": "code",
   "execution_count": null,
   "metadata": {},
   "outputs": [],
   "source": [
    "prime = True\n",
    "if number_n == 1:\n",
    "    prime = False\n",
    "else:\n",
    "    for x in range(2, number_n): \n",
    "        if number_n % x == 0:\n",
    "            prime = False\n",
    "            break\n",
    "if prime:\n",
    "    print(f\"{number_n} is prime\")\n",
    "else:\n",
    "    print(f\"{number_n} is not prime\") "
   ]
  },
  {
   "cell_type": "code",
   "execution_count": null,
   "metadata": {},
   "outputs": [],
   "source": [
    "prime = True\n",
    "if number_n == 1: prime = False\n",
    "else:\n",
    "    x=2\n",
    "    while x < number_n:\n",
    "        if number_n % x == 0:\n",
    "            prime = False\n",
    "            break\n",
    "        x+=1\n",
    "print(f\"{number_n} is prime\") if prime else print(f\"{number_n} is not prime\")"
   ]
  },
  {
   "cell_type": "code",
   "execution_count": null,
   "metadata": {},
   "outputs": [],
   "source": [
    "prime = False\n",
    "while prime == False:\n",
    "    number_n = int(input(\"Enter a number to check and show whether is prime or not: \"))\n",
    "    for x in range(2, number_n):\n",
    "        if number_n % x == 0:\n",
    "            prime = False\n",
    "            break\n",
    "        else:\n",
    "            prime = True\n",
    "    if number_n == 2 or prime:\n",
    "        prime = True\n",
    "        print(f\"{number_n} is prime\")"
   ]
  },
  {
   "cell_type": "markdown",
   "metadata": {},
   "source": [
    "<h4>11. Write a program that asks the user for a number N and displays all the prime numbers smaller than N.</h4>"
   ]
  },
  {
   "cell_type": "code",
   "execution_count": null,
   "metadata": {},
   "outputs": [],
   "source": [
    "number_n = int(input(\"Enter a number to check and show all primes before it: \"))"
   ]
  },
  {
   "cell_type": "code",
   "execution_count": null,
   "metadata": {},
   "outputs": [],
   "source": [
    "prime = True\n",
    "for x in range(2, number_n):\n",
    "    for y in range(2, x):\n",
    "        if  x % y == 0:\n",
    "            prime = False\n",
    "            break\n",
    "        else:\n",
    "            prime = True\n",
    "    if prime:\n",
    "        print(x)"
   ]
  },
  {
   "cell_type": "markdown",
   "metadata": {},
   "source": [
    "<h4>12. Create a program that displays the first N prime numbers, where N is entered by the user, using a repetition loop.</h4>"
   ]
  },
  {
   "cell_type": "code",
   "execution_count": null,
   "metadata": {},
   "outputs": [],
   "source": [
    "number_n = int(input(\"Enter the number of how many first primes you would like to see: \"))\n",
    "count_primes, prime_number = 0, 2\n",
    "if number_n < 1:\n",
    "    print(\"You typed less than 1.\")\n",
    "else:\n",
    "    print(f\"The first {number_n} prime(s) are: \")\n",
    "    while count_primes != number_n:\n",
    "        prime = False\n",
    "        if number_n < 0:\n",
    "            break\n",
    "        elif number_n == 1:\n",
    "            print(f\"{prime_number}\")\n",
    "            count_primes+=1\n",
    "        else:\n",
    "            while prime == False:\n",
    "                for x in range(2, prime_number):\n",
    "                    if prime_number % x == 0:\n",
    "                        prime = False\n",
    "                        break\n",
    "                    else:\n",
    "                        prime = True         \n",
    "                if prime_number == 2 or prime:\n",
    "                    print(f\"{prime_number}\")        \n",
    "                    count_primes+=1\n",
    "                prime_number+=1"
   ]
  },
  {
   "cell_type": "code",
   "execution_count": null,
   "metadata": {},
   "outputs": [],
   "source": [
    "number_n = int(input(\"Enter the number of how many first primes you would like to see: \"))\n",
    "count_primes, prime_number = 0, 2\n",
    "if number_n < 1:\n",
    "    print(\"You typed less than 1.\")\n",
    "else:\n",
    "    print(f\"The first {number_n} prime(s) are: \")\n",
    "    while count_primes != number_n:\n",
    "        prime = True\n",
    "        for x in range(2, prime_number):\n",
    "            if prime_number % x == 0:\n",
    "                prime = False\n",
    "                break       \n",
    "        if prime:\n",
    "            print(f\"{prime_number}\")        \n",
    "            count_primes+=1\n",
    "        prime_number+=1"
   ]
  },
  {
   "cell_type": "markdown",
   "metadata": {},
   "source": [
    "<h4>13. Create a program that displays the first N perfect squares, where N is entered by the user, using a repetition loop.</h4>"
   ]
  },
  {
   "cell_type": "code",
   "execution_count": null,
   "metadata": {},
   "outputs": [],
   "source": [
    "number = int(input(\"Enter a number of perfect squares you want to see: \"))"
   ]
  },
  {
   "cell_type": "code",
   "execution_count": null,
   "metadata": {},
   "outputs": [],
   "source": [
    "print(f\"The first {number} perfect squares are: \")\n",
    "for x in range(1, number+1): print (x**2)"
   ]
  },
  {
   "cell_type": "code",
   "execution_count": null,
   "metadata": {},
   "outputs": [],
   "source": [
    "print(f\"The first {number} perfect squares are: \")\n",
    "x = 1\n",
    "while x <= number: print(x**2); x+=1 "
   ]
  },
  {
   "cell_type": "markdown",
   "metadata": {},
   "source": [
    "<h4>14. Write a program that asks the user for two numbers A and B and displays all the numbers between A and B. </h4>"
   ]
  },
  {
   "cell_type": "code",
   "execution_count": null,
   "metadata": {},
   "outputs": [],
   "source": [
    "number_a = int(input(\"Enter a number for A: \"))\n",
    "number_b = int(input(\"Enter a number for B: \"))"
   ]
  },
  {
   "cell_type": "code",
   "execution_count": null,
   "metadata": {},
   "outputs": [],
   "source": [
    "print(f\"The numbers between {number_a} and {number_b}, are: \")\n",
    "for number_a in range(number_a+1,number_b): print (number_a)"
   ]
  },
  {
   "cell_type": "code",
   "execution_count": null,
   "metadata": {},
   "outputs": [],
   "source": [
    "while number_a+1 < number_b: print (number_a+1); number_a+=1"
   ]
  },
  {
   "cell_type": "markdown",
   "metadata": {},
   "source": [
    "<h4>15. Write a program that reads numbers from the user until a negative number is entered, and displays the sum of the positive numbers.</h4>"
   ]
  },
  {
   "cell_type": "code",
   "execution_count": null,
   "metadata": {},
   "outputs": [],
   "source": [
    "number, number_sum = 0, 0\n",
    "while number >= 0:\n",
    "    number = float(input(\"Enter a number greater than zero to continue or\\\n",
    "                          any negative number to show the sum of all positives: \"))\n",
    "    if number > 0: number_sum+=number\n",
    "print(f\"The sum of all numbers is: {number_sum:.2f}\")"
   ]
  },
  {
   "cell_type": "markdown",
   "metadata": {},
   "source": [
    "<h4>16. Make a program that asks the user for a number and displays the Fibonacci sequence up to the given number using a repeat loop.</h4>"
   ]
  },
  {
   "cell_type": "code",
   "execution_count": null,
   "metadata": {},
   "outputs": [],
   "source": [
    "number = int(input(\"Enter a number: \"))"
   ]
  },
  {
   "cell_type": "code",
   "execution_count": null,
   "metadata": {},
   "outputs": [],
   "source": [
    "fibonacci_number = 0\n",
    "aux = 1\n",
    "while aux <= number:\n",
    "    print (fibonacci_number)\n",
    "    fibonacci_number, aux  = aux,  fibonacci_number + aux"
   ]
  },
  {
   "cell_type": "code",
   "execution_count": null,
   "metadata": {},
   "outputs": [],
   "source": [
    "fibonacci_number = 0\n",
    "aux = 1\n",
    "while aux <= number:\n",
    "    print (fibonacci_number)\n",
    "    x = fibonacci_number + aux\n",
    "    fibonacci_number =  aux\n",
    "    aux = x"
   ]
  },
  {
   "cell_type": "markdown",
   "metadata": {},
   "source": [
    "<h4>17. Write a program that reads numbers from the user until zero is entered, and displays the average of the numbers entered.</h4>"
   ]
  },
  {
   "cell_type": "code",
   "execution_count": null,
   "metadata": {},
   "outputs": [],
   "source": [
    "number, count, number_sum = 1, 0, 0\n",
    "while number != 0:\n",
    "    number = float(input(\"Enter a number to be summed and type 0 to finish it and to create a mean: \"))\n",
    "    if number != 0:\n",
    "        number_sum+=number\n",
    "        count+=1\n",
    "if count == 0:\n",
    "    average = 0\n",
    "else:\n",
    "    average = number_sum / count \n",
    "print(f\"The average of all numbers typed is: {average:.2f}\")"
   ]
  },
  {
   "cell_type": "code",
   "execution_count": null,
   "metadata": {},
   "outputs": [],
   "source": [
    "number = float(input(\"Enter a number to be summed and type 0 to finish it and to create a mean: \"))\n",
    "count, number_sum = 0, 0\n",
    "while number != 0:\n",
    "    number_sum+=number\n",
    "    count+=1\n",
    "    number = float(input(\"Enter a number to be summed and type 0 to finish it and to create a mean: \"))\n",
    "if count == 0:\n",
    "    average = 0\n",
    "else:\n",
    "    average = number_sum / count \n",
    "print(f\"The average of all numbers typed is: {average:.2f}\")"
   ]
  },
  {
   "cell_type": "markdown",
   "metadata": {},
   "source": [
    "<h4>18. Write a program that asks the user for a list of numbers, until the user types the number zero, and displays the largest and smallest numbers in the list.</h4>"
   ]
  },
  {
   "cell_type": "code",
   "execution_count": null,
   "metadata": {},
   "outputs": [],
   "source": [
    "greatest = float(\"-inf\")\n",
    "smallest = float(\"inf\")\n",
    "number = float(input(\"Enter a number to accomulate as bigger and smaller number or type 0 to exit: \"))"
   ]
  },
  {
   "cell_type": "code",
   "execution_count": null,
   "metadata": {},
   "outputs": [],
   "source": [
    "while number != 0:\n",
    "    if number > greatest:\n",
    "        greatest = number\n",
    "    if number < smallest:\n",
    "        smallest = number\n",
    "    number = float(input(\"Enter a number to accomulate as bigger and smaller number or type 0 to exit: \"))\n",
    "if greatest == float(\"-inf\"):\n",
    "    print(\"You need to enter at least one number different of 0.\")\n",
    "else:\n",
    "    print(f\"The largest and smallest numbers are: {greatest:.2f} and {smallest:.2f}\")"
   ]
  },
  {
   "cell_type": "code",
   "execution_count": null,
   "metadata": {},
   "outputs": [],
   "source": [
    "import math\n",
    "while number != 0:\n",
    "    if number > greatest:\n",
    "        greatest = number\n",
    "    if number < smallest:\n",
    "        smallest = number\n",
    "    number = float(input(\"Enter a number to accomulate as bigger and smaller number or type 0 to exit: \"))\n",
    "if math.isinf(greatest):\n",
    "    print(\"You need to enter at least one number different of 0.\")\n",
    "else:\n",
    "    print(f\"The largest and smallest numbers are: {greatest:.2f} and {smallest:.2f}\")"
   ]
  },
  {
   "cell_type": "markdown",
   "metadata": {},
   "source": [
    "<h4>19. Write a program that asks the user for a sentence and displays the number of vowels in the sentence.</h4>"
   ]
  },
  {
   "cell_type": "code",
   "execution_count": null,
   "metadata": {},
   "outputs": [],
   "source": [
    "user_sentence = input(\"Enter with any sentence: \").lower()"
   ]
  },
  {
   "cell_type": "code",
   "execution_count": null,
   "metadata": {},
   "outputs": [],
   "source": [
    "print (f\"The sentence {user_sentence} has: \", end = \"\")\n",
    "vocal = 0\n",
    "for caracter in user_sentence:\n",
    "    if caracter in \"aeiou\":\n",
    "        vocal+=1\n",
    "print(vocal, \"vocal(s).\")"
   ]
  },
  {
   "cell_type": "code",
   "execution_count": null,
   "metadata": {},
   "outputs": [],
   "source": [
    "vocal = 0\n",
    "for x in user_sentence:\n",
    "    for y in \"aeiou\":\n",
    "        if x == y:\n",
    "            vocal+=1\n",
    "print (f\"The sentence {user_sentence} has: {vocal} vocal(s).\")"
   ]
  },
  {
   "cell_type": "markdown",
   "metadata": {},
   "source": [
    "<h4>20. Write a program that asks the user for a integer number and displays its divisors.</h4>"
   ]
  },
  {
   "cell_type": "code",
   "execution_count": null,
   "metadata": {},
   "outputs": [],
   "source": [
    "number = int(input(\"Enter a integer number to see its divisors: \"))"
   ]
  },
  {
   "cell_type": "code",
   "execution_count": null,
   "metadata": {},
   "outputs": [],
   "source": [
    "print(f\"{number} is divisible by: \", end=\"| \")\n",
    "for x in range(1, number+1):\n",
    "    if number % x == 0:\n",
    "        print(x, end=\" | \")"
   ]
  },
  {
   "cell_type": "markdown",
   "metadata": {},
   "source": [
    "<h4>21. Make a program that determines the Least common multiple (LCM) of two numbers entered by the user.</h4>"
   ]
  },
  {
   "cell_type": "code",
   "execution_count": null,
   "metadata": {},
   "outputs": [],
   "source": [
    "number_first = int(input(\"Insert the first number: \"))\n",
    "number_second = int(input(\"Insert the second number: \"))"
   ]
  },
  {
   "cell_type": "code",
   "execution_count": null,
   "metadata": {},
   "outputs": [],
   "source": [
    "if number_first >= number_second:\n",
    "    greater = number_first\n",
    "else:\n",
    "    greater = number_second\n",
    "lcm = greater\n",
    "while lcm % number_first != 0 or lcm % number_second != 0:\n",
    "    lcm+=greater\n",
    "\n",
    "print(f\"The LCM of: {number_first} and {number_second} is: {lcm}\")"
   ]
  },
  {
   "cell_type": "markdown",
   "metadata": {},
   "source": [
    "<h4>22. Make a program that determines the maximum common divisor (MDC) between two numbers entered by the user.</h4>"
   ]
  },
  {
   "cell_type": "code",
   "execution_count": null,
   "metadata": {},
   "outputs": [],
   "source": [
    "number_first = int(input(\"Insert the first number: \"))\n",
    "number_second = int(input(\"Insert the second number: \"))"
   ]
  },
  {
   "cell_type": "code",
   "execution_count": null,
   "metadata": {},
   "outputs": [],
   "source": [
    "print(f\"The MDC of {number_first} and {number_second} is: \", end=\"\")\n",
    "while number_second != 0:\n",
    "    rest = number_first % number_second\n",
    "    number_first = number_second\n",
    "    number_second = rest\n",
    "print(number_first)"
   ]
  },
  {
   "cell_type": "markdown",
   "metadata": {},
   "source": [
    "<h4>23. Make a program that calculates the series below up to the tenth element:</h4>"
   ]
  },
  {
   "cell_type": "markdown",
   "metadata": {},
   "source": [
    "![repeat_loop_23.png](images/repeat_loop_23.png)"
   ]
  },
  {
   "cell_type": "code",
   "execution_count": 18,
   "metadata": {},
   "outputs": [
    {
     "name": "stdout",
     "output_type": "stream",
     "text": [
      "12842.31\n"
     ]
    }
   ],
   "source": [
    "number = float(input(\"What number do you want to use? \"))\n",
    "term, fatorial = 1, 1\n",
    "for x in range(1, 11):\n",
    "    fatorial *= x\n",
    "    term += (number**x / fatorial)\n",
    "print(f\"{term:.2f}\")"
   ]
  },
  {
   "cell_type": "markdown",
   "metadata": {},
   "source": [
    "<h4>24. Rewrite the code from the previous exercise until the difference between the terms is less than 0.001.</h4>"
   ]
  },
  {
   "cell_type": "code",
   "execution_count": 47,
   "metadata": {},
   "outputs": [
    {
     "name": "stdout",
     "output_type": "stream",
     "text": [
      "54.60, 16\n"
     ]
    }
   ],
   "source": [
    "number = float(input(\"What number do you want to use? \"))\n",
    "last_term, x, difference, term, fatorial = 1, 1, 1, 1, 1 \n",
    "while difference >= 0.001:\n",
    "    fatorial *= x\n",
    "    term += (number**x / fatorial)\n",
    "    difference = term - last_term\n",
    "    last_term = term\n",
    "    x+=1\n",
    "print(f\"{term:.2f}, {x}\")"
   ]
  },
  {
   "cell_type": "code",
   "execution_count": 44,
   "metadata": {},
   "outputs": [
    {
     "name": "stdout",
     "output_type": "stream",
     "text": [
      "54.60, 16\n"
     ]
    }
   ],
   "source": [
    "number = float(input(\"What number do you want to use? \"))\n",
    "x, term, last_term = 1, 1, 1\n",
    "while term >= 0.001:\n",
    "    term *= number / x\n",
    "    last_term += term\n",
    "    x+=1\n",
    "print(f\"{last_term:.2f}, {x}\")"
   ]
  },
  {
   "cell_type": "markdown",
   "metadata": {},
   "source": [
    "<h4>25. Make a program that calculates the value of sin using Taylor's series according to the equation below the tenth term:</h4>"
   ]
  },
  {
   "cell_type": "markdown",
   "metadata": {},
   "source": [
    "![repeat_loop_25.png](images/repeat_loop_25.png)"
   ]
  },
  {
   "cell_type": "code",
   "execution_count": 50,
   "metadata": {},
   "outputs": [
    {
     "name": "stdout",
     "output_type": "stream",
     "text": [
      "The sin(2.0) is: 0.91\n"
     ]
    }
   ],
   "source": [
    "number = float(input(\"Type the angle in radius to calculate the sin using Taylor's series: \"))\n",
    "sin, signal = number, -1\n",
    "for x in range(1, 11):\n",
    "    a = number ** (2 * x + 1)\n",
    "    b = 1\n",
    "    for y in range(1, 2 * x + 2):\n",
    "        b *= y\n",
    "    term = a / b\n",
    "    sin += term * signal\n",
    "    signal *= -1\n",
    "print(f\"The sin({number}) is: {sin:.2f}\")"
   ]
  }
 ],
 "metadata": {
  "kernelspec": {
   "display_name": "DataScience",
   "language": "python",
   "name": "python3"
  },
  "language_info": {
   "codemirror_mode": {
    "name": "ipython",
    "version": 3
   },
   "file_extension": ".py",
   "mimetype": "text/x-python",
   "name": "python",
   "nbconvert_exporter": "python",
   "pygments_lexer": "ipython3",
   "version": "3.9.16"
  },
  "orig_nbformat": 4
 },
 "nbformat": 4,
 "nbformat_minor": 2
}
