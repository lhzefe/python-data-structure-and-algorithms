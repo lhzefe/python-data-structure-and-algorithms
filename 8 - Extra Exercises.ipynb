{
 "cells": [
  {
   "cell_type": "markdown",
   "metadata": {},
   "source": [
    "<h1>Python Exercises</h1>\n",
    "<h2>Extra Exercises</h2>"
   ]
  },
  {
   "cell_type": "markdown",
   "metadata": {},
   "source": [
    "<h4>1. Write a program that asks the user for a sentence and displays the sentence backwards</h4>"
   ]
  },
  {
   "cell_type": "code",
   "execution_count": null,
   "metadata": {},
   "outputs": [],
   "source": [
    "def invert_sentence(text):\n",
    "    return text[::-1]"
   ]
  },
  {
   "cell_type": "code",
   "execution_count": null,
   "metadata": {},
   "outputs": [],
   "source": [
    "sentence = \"xablau baby\"\n",
    "invert_sentence(sentence)"
   ]
  },
  {
   "cell_type": "markdown",
   "metadata": {},
   "source": [
    "<h4>2. Make the BubbleSort Algorithm</h4>"
   ]
  },
  {
   "cell_type": "code",
   "execution_count": null,
   "metadata": {},
   "outputs": [],
   "source": [
    "def raw_bubble_sort(vector):\n",
    "    for x in range(len(vector)):\n",
    "        for y in range(len(vector)-x-1):\n",
    "            if vector[y] > vector[y+1]:\n",
    "                vector[y], vector[y+1] = vector[y+1], vector[y]\n",
    "    return vector"
   ]
  },
  {
   "cell_type": "code",
   "execution_count": null,
   "metadata": {},
   "outputs": [],
   "source": [
    "vector = [4,5,3,6,2,1,7,8,9,2,10]\n",
    "print(raw_bubble_sort(vector))"
   ]
  },
  {
   "cell_type": "markdown",
   "metadata": {},
   "source": [
    "<h4>3. Create an algorithm to solve the Tower of Hanoi</h4>"
   ]
  },
  {
   "cell_type": "code",
   "execution_count": null,
   "metadata": {},
   "outputs": [],
   "source": [
    "def hanoi_tower(number_discs, origin, destiny, pin_auxiliar):\n",
    "    if number_discs == 1:\n",
    "        print(\"Move the disc from {} to {}.\".format(origin, destiny))\n",
    "    else:\n",
    "        hanoi_tower(number_discs-1, origin, pin_auxiliar, destiny)\n",
    "        print(\"Move the disc from {} to {}.\".format(origin, destiny))\n",
    "        hanoi_tower(number_discs-1, pin_auxiliar, destiny, origin)"
   ]
  },
  {
   "cell_type": "code",
   "execution_count": null,
   "metadata": {},
   "outputs": [],
   "source": [
    "hanoi_tower(3, 1, 3, 2)"
   ]
  },
  {
   "cell_type": "markdown",
   "metadata": {},
   "source": [
    "<h4>4. Make a function that receives a 3x3 matrix representing the tic-tac-toe game, and checks if there is a winner, if there was a draw, or if the game hasn't finished yet</h4>"
   ]
  },
  {
   "cell_type": "code",
   "execution_count": null,
   "metadata": {},
   "outputs": [],
   "source": [
    "def winner_check(game):\n",
    "    for line in game:\n",
    "        if line.count(line[0]) == len(line) and line[0] != \" \":\n",
    "            return line[0]\n",
    "    \n",
    "    for column in range(len(game)):\n",
    "        if game[0][column] == game[1][column] == game[2][column] \\\n",
    "            and game[0][column] != \" \":\n",
    "            return game[0][column]\n",
    "    \n",
    "    if game[0][0] == game[1][1] == game[2][2] and game[0][0] != \" \":\n",
    "        return game[0][0]\n",
    "    if game[0][2] == game[1][1] == game[2][0] and game[0][2] != \" \":\n",
    "        return game[0][2]\n",
    "\n",
    "    for line in game:\n",
    "        if \" \" in line:\n",
    "            return \"Game not finished yet.\"\n",
    "        \n",
    "    return \"Draw\""
   ]
  },
  {
   "cell_type": "code",
   "execution_count": null,
   "metadata": {},
   "outputs": [],
   "source": [
    "def winner_check_two(game):\n",
    "    for line in game:\n",
    "        if line.count(line[0]) == len(line) and line[0] != \" \":\n",
    "            return line[0]\n",
    "    \n",
    "    for column in range(len(game)):\n",
    "        if game[0][column] == game[1][column] == game[2][column] \\\n",
    "            and game[0][column] != \" \":\n",
    "            return game[0][column]\n",
    "    \n",
    "    if game[0][0] == game[1][1] == game[2][2] and game[0][0] != \" \":\n",
    "        return game[0][0]\n",
    "    if game[0][2] == game[1][1] == game[2][0] and game[0][2] != \" \":\n",
    "        return game[0][2]\n",
    "\n",
    "    if \" \" not in [mark for line in game for mark in line]:\n",
    "        return \"Draw\"\n",
    "    \n",
    "    return \"Game not finished yet.\""
   ]
  },
  {
   "cell_type": "code",
   "execution_count": null,
   "metadata": {},
   "outputs": [],
   "source": [
    "tic_tac_toe = [[0,0,1],\n",
    "               [1,1,0],\n",
    "               [0,1,0]]\n",
    "\n",
    "print(winner_check(tic_tac_toe))\n",
    "print(winner_check_two(tic_tac_toe))"
   ]
  },
  {
   "cell_type": "markdown",
   "metadata": {},
   "source": [
    "<h4>5. Master words: Write an algorithm that checks whether a word is a \"master word\". A word is considered a \"prime word\" if the sum of the letter values (where 'a' = 1, 'b' = 2, etc.) is a prime number</h4>"
   ]
  },
  {
   "cell_type": "code",
   "execution_count": null,
   "metadata": {},
   "outputs": [],
   "source": [
    "def master_word(text):\n",
    "    text_number=0\n",
    "    for letter in text:\n",
    "        text_number += (ord(letter)-96)\n",
    "    if text_number < 2:\n",
    "        return \"It is not a Master word.\"\n",
    "    for number in range(2,text_number):\n",
    "        if text_number % number == 0:\n",
    "            return \"It is not Master word.\"\n",
    "    return \"Master Word.\""
   ]
  },
  {
   "cell_type": "code",
   "execution_count": null,
   "metadata": {},
   "outputs": [],
   "source": [
    "def prime(number):\n",
    "    if number < 2:\n",
    "        return False\n",
    "    for x in range(2,number):\n",
    "        if number % x == 0:\n",
    "            return False\n",
    "    return True\n",
    "\n",
    "def master_word_two(text):\n",
    "    text_number=0\n",
    "    for letter in text:\n",
    "        text_number += (ord(letter)-96)\n",
    "    if prime(text_number):\n",
    "        return \"Master Word.\"\n",
    "    else:\n",
    "        return \"It is not Master word.\""
   ]
  },
  {
   "cell_type": "code",
   "execution_count": null,
   "metadata": {},
   "outputs": [],
   "source": [
    "print(master_word(\"abd\"))\n",
    "print(master_word(\"abcd\"))\n",
    "print(master_word_two(\"abd\"))\n",
    "print(master_word_two(\"abcd\"))"
   ]
  },
  {
   "cell_type": "markdown",
   "metadata": {},
   "source": [
    "<h4>6. Implement an algorithm that receives an integer and generates the Collatz sequence for that number. The Collatz sequence is generated by applying the following rules: if the number is even, divide it by 2; if the number is odd, multiply it by 3 and add 1. Repeat this process until you reach the number 1</h4>"
   ]
  },
  {
   "cell_type": "code",
   "execution_count": null,
   "metadata": {},
   "outputs": [],
   "source": [
    "def collatz_sequence(number):\n",
    "    sequence = [number]\n",
    "    while number != 1:\n",
    "        if number % 2 == 0:\n",
    "            number = number / 2\n",
    "        else:\n",
    "            number = (number * 3) + 1\n",
    "        sequence.append(number)\n",
    "    return sequence"
   ]
  },
  {
   "cell_type": "code",
   "execution_count": null,
   "metadata": {},
   "outputs": [],
   "source": [
    "print(collatz_sequence(30))"
   ]
  },
  {
   "cell_type": "markdown",
   "metadata": {},
   "source": [
    "<h4>7. Make a program that asks for the user's CPF and then validates it</h4>"
   ]
  },
  {
   "cell_type": "code",
   "execution_count": null,
   "metadata": {},
   "outputs": [],
   "source": [
    "#You can solve this problem by parsing the Brazilian CPF rule, or by using the \"pycpfcnpj\" library via \"pip install pycpfcnpj.\" "
   ]
  },
  {
   "cell_type": "code",
   "execution_count": null,
   "metadata": {},
   "outputs": [],
   "source": [
    "def cpf_validator(cpf_number):\n",
    "    if len(cpf_number) != 11:\n",
    "        return \"The CPF is not valid. It needs exactly 11 numbers.\"\n",
    "    else:\n",
    "        if cpf_number == cpf_number[0]*11:\n",
    "            return \"The CPF is not valid, because all 11 numbers are the same.\"\n",
    "        else:\n",
    "            cpf_number = [int(cpf_digit) for cpf_digit in cpf_number]\n",
    "            sum_validation = sum(cpf_digit * (10 - index) for index, cpf_digit in enumerate(cpf_number[:9]))\n",
    "            rest = sum_validation % 11\n",
    "            if rest < 2:\n",
    "                first_validator_digit = 0\n",
    "            else:\n",
    "                first_validator_digit = 11 - rest\n",
    "            if cpf_number[9] != first_validator_digit:\n",
    "                return \"The CPF is not valid, first verify number invalid.\"\n",
    "            else:\n",
    "                sum_validation = sum(cpf_digit * (11 - index) for index, cpf_digit in enumerate(cpf_number[:10]))\n",
    "                rest = sum_validation % 11\n",
    "                if rest < 2:\n",
    "                    second_validator_digit = 0\n",
    "                else:\n",
    "                    second_validator_digit = 11 - rest\n",
    "                if cpf_number[10] != second_validator_digit:\n",
    "                    return \"The CPF is not valid, second verify number invalid.\"\n",
    "                else:\n",
    "                    return \"The CPF is valid.\""
   ]
  },
  {
   "cell_type": "code",
   "execution_count": null,
   "metadata": {},
   "outputs": [],
   "source": [
    "print(cpf_validator(\"30317447726\"))"
   ]
  },
  {
   "cell_type": "code",
   "execution_count": null,
   "metadata": {},
   "outputs": [],
   "source": [
    "from pycpfcnpj import cpfcnpj\n",
    "\n",
    "print(cpfcnpj.validate(\"30317447726\"))"
   ]
  }
 ],
 "metadata": {
  "kernelspec": {
   "display_name": "DataScience",
   "language": "python",
   "name": "python3"
  },
  "language_info": {
   "codemirror_mode": {
    "name": "ipython",
    "version": 3
   },
   "file_extension": ".py",
   "mimetype": "text/x-python",
   "name": "python",
   "nbconvert_exporter": "python",
   "pygments_lexer": "ipython3",
   "version": "3.9.12"
  },
  "orig_nbformat": 4
 },
 "nbformat": 4,
 "nbformat_minor": 2
}
