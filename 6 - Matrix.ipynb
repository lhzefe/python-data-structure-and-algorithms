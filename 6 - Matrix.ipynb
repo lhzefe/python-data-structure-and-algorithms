{
 "cells": [
  {
   "cell_type": "markdown",
   "metadata": {},
   "source": [
    "<h1>Python Exercises</h1>\n",
    "<h2>Matrix (10 exercises)</h2>"
   ]
  },
  {
   "cell_type": "markdown",
   "metadata": {},
   "source": [
    "<h4>1. Make a program that fills in a 3x3 matrix with values entered by the user and displays the sum of the values on the main diagonal.</h4>"
   ]
  },
  {
   "cell_type": "code",
   "execution_count": null,
   "metadata": {},
   "outputs": [],
   "source": [
    "matrix = [[0, 0, 0],\n",
    "          [0, 0, 0],\n",
    "          [0, 0, 0]]\n",
    "sum_main_diagonal = 0\n",
    "\n",
    "for x in range(3):\n",
    "    for y in range(3):\n",
    "        number = float(input(f\"Enter a number for the matrix in position [{x+1}] [{y+1}]: \"))\n",
    "        matrix[x][y] = number\n",
    "\n",
    "for x in range(3):\n",
    "    print(matrix[x])\n",
    "\n",
    "for x in range(3):\n",
    "    sum_main_diagonal += matrix[x][x]\n",
    "\n",
    "print(f\"The sum of the main diagonal is: {sum_main_diagonal}\")"
   ]
  },
  {
   "cell_type": "code",
   "execution_count": null,
   "metadata": {},
   "outputs": [],
   "source": [
    "import random\n",
    "\n",
    "matrix = [[],[],[]]\n",
    "sum_main_diagonal = 0\n",
    "for x in range(3):\n",
    "    for y in range(3):\n",
    "        number = round(random.uniform(0, 10), 1)\n",
    "        matrix[x].append(number)\n",
    "        if x == y:\n",
    "            sum_main_diagonal+=number\n",
    "for x in range(len(matrix)): print(matrix[x])\n",
    "print(sum_main_diagonal)"
   ]
  },
  {
   "cell_type": "code",
   "execution_count": null,
   "metadata": {},
   "outputs": [],
   "source": [
    "matrix, sum_main_diagonal = [[],[],[]], 0\n",
    "for x in range(3):\n",
    "    for y in range(3):\n",
    "        number = float(input(f\"Enter a number for the matrix in position [{x+1}] [{y+1}]: \"))\n",
    "        matrix[x].append(number)\n",
    "for x in range(len(matrix)): print(\"{}\".format(matrix[x]).replace(\",\",\" \"))\n",
    "for x in range(len(matrix)): sum_main_diagonal += matrix[x][x]\n",
    "print(f\"The sum of the main diagonal is: {sum_main_diagonal}\")"
   ]
  },
  {
   "cell_type": "markdown",
   "metadata": {},
   "source": [
    "<h4>2. Make a program that fills a 4x4 matrix with random values and displays the transposed matrix.</h4>"
   ]
  },
  {
   "cell_type": "code",
   "execution_count": null,
   "metadata": {},
   "outputs": [],
   "source": [
    "import random\n",
    "\n",
    "matrix = []\n",
    "matrix_transponse = []\n",
    "\n",
    "for x in range(4):\n",
    "    line = []\n",
    "    for y in range(4):\n",
    "        number = round(random.uniform(0,10), 1)\n",
    "        line.append(number)\n",
    "    matrix.append(line)\n",
    "print(\"The Matrix is:\")\n",
    "for x in range(len(matrix)):\n",
    "    print(f\"{matrix[x]}\".replace(\",\",\" \"))"
   ]
  },
  {
   "cell_type": "code",
   "execution_count": null,
   "metadata": {},
   "outputs": [],
   "source": [
    "matrix_transponse = []\n",
    "for x in range(4):\n",
    "    columned = []\n",
    "    for y in matrix:\n",
    "        columned.append(y[x])\n",
    "    matrix_transponse.append(columned)\n",
    "matrix_transponse"
   ]
  },
  {
   "cell_type": "code",
   "execution_count": null,
   "metadata": {},
   "outputs": [],
   "source": [
    "matrix_transponse = list(map(list, zip(*matrix)))\n",
    "print(f\"The Transponse Matrix is: \\n {matrix_transponse}\".replace(\"],\", \"]\\n\"))"
   ]
  },
  {
   "cell_type": "code",
   "execution_count": null,
   "metadata": {},
   "outputs": [],
   "source": [
    "import numpy as np\n",
    "\n",
    "matrix = np.random.randint(0,10,size=(4,4))\n",
    "print(f\"The Matrix is: \\n {matrix} \\n\")\n",
    "matrix_transponse = np.transpose(matrix)\n",
    "print(f\"The Transponse Matrix is: \\n {matrix_transponse} \\n\")"
   ]
  },
  {
   "cell_type": "markdown",
   "metadata": {},
   "source": [
    "<h4>3. Make a program that reads two 2x2 matrices and displays the sum of the two matrices.</h4>"
   ]
  },
  {
   "cell_type": "code",
   "execution_count": null,
   "metadata": {},
   "outputs": [],
   "source": [
    "import random\n",
    "\n",
    "matrix_one = [[0,0],\n",
    "              [0,0]]\n",
    "matrix_two = [[0,0],\n",
    "              [0,0]]\n",
    "matrix_sum = [[0,0],\n",
    "              [0,0]]\n",
    "\n",
    "for x in range(2):\n",
    "    for y in range(2):\n",
    "        matrix_one[x][y] = random.randint(0,10)\n",
    "        matrix_two[x][y] = random.randint(0,10)\n",
    "\n",
    "for x in range(2):\n",
    "    for y in range(2):\n",
    "        matrix_sum[x][y] = matrix_one[x][y] + matrix_two[x][y]\n",
    "\n",
    "print(f\"The matrix one is: \\n{matrix_one} \\nThe matrix two is:\\\n",
    "      \\n{matrix_two} \\nThe sum of them is: \\n{matrix_sum}\".replace(\"],\",\"]\\n\"))"
   ]
  },
  {
   "cell_type": "code",
   "execution_count": null,
   "metadata": {},
   "outputs": [],
   "source": [
    "import numpy as np\n",
    "matrix_one = np.random.randint(0, 10, size=(2,2))\n",
    "matrix_two = np.random.randint(0, 10, size=(2,2))\n",
    "matrix_sum = matrix_one + matrix_two\n",
    "# matrix_sum = np.add(matrix_one,matrix_two)\n",
    "print(\"The matrix one: \\n\", matrix_one, \"\\n and the matrix two: \\n\" \\\n",
    "      , matrix_two, \"\\n summed, result in: \\n\", matrix_sum)"
   ]
  },
  {
   "cell_type": "markdown",
   "metadata": {},
   "source": [
    "<h4>4. Make a program that fills a 5x5 matrix with integers and displays the largest value in the matrix and its position.\n",
    "</h4>"
   ]
  },
  {
   "cell_type": "code",
   "execution_count": null,
   "metadata": {},
   "outputs": [],
   "source": [
    "import random\n",
    "\n",
    "matrix = []\n",
    "largest = float(\"-inf\")\n",
    "position = []\n",
    "\n",
    "for x in range(5):\n",
    "    line = []\n",
    "    for y in range(5):\n",
    "        line.append(random.randint(0,100))\n",
    "    matrix.append(line)\n",
    "\n",
    "for x in range(5):\n",
    "    for y in range(5):\n",
    "        if matrix[x][y] > largest:\n",
    "            largest = matrix[x][y] \n",
    "            position = [x+1,y+1]\n",
    "\n",
    "print(f\"The matrix one is: \\n{matrix} \\nThe largerst number is:\\\n",
    "      \\n{largest} \\nThe position of it is: \\n{position}\".replace(\"],\",\"]\\n\"))"
   ]
  },
  {
   "cell_type": "code",
   "execution_count": null,
   "metadata": {},
   "outputs": [],
   "source": [
    "import numpy as np\n",
    "matrix = np.random.randint(0,100,size=(5,5))\n",
    "print(\"The matrix is: \\n\",matrix)\n",
    "largest = np.max(matrix)\n",
    "position = list(np.unravel_index(matrix.argmax(),matrix.shape))\n",
    "for x in range(len(position)): position[x]+=1\n",
    "print(f\"The largest value is: {largest} and the position of it is: {position}\")"
   ]
  },
  {
   "cell_type": "markdown",
   "metadata": {},
   "source": [
    "<h4>5. Make a program that reads a 3x3 matrix and calculates the average of the values present in the even positions (sum of the even indices) of the matrix.</h4>"
   ]
  },
  {
   "cell_type": "code",
   "execution_count": null,
   "metadata": {},
   "outputs": [],
   "source": [
    "import random\n",
    "\n",
    "matrix = []\n",
    "mean_even_position = [0, 0]\n",
    "\n",
    "for x in range(3):\n",
    "    line = []\n",
    "    for y in range(3):\n",
    "        line.append(random.randint(0,100))\n",
    "    matrix.append(line)\n",
    "\n",
    "for x in range(3):\n",
    "    for y in range(3):\n",
    "        if (x+y) % 2 == 0:\n",
    "            mean_even_position[0]+= matrix[x][y]\n",
    "            mean_even_position[1]+=1\n",
    "print(\"The matrix one is:\\n\")\n",
    "for x in range(len(matrix)): print(matrix[x]) \n",
    "print(f\"\\nThe mean of the evens is: {mean_even_position[0]/mean_even_position[1]}\")"
   ]
  },
  {
   "cell_type": "code",
   "execution_count": null,
   "metadata": {},
   "outputs": [],
   "source": [
    "import random\n",
    "import statistics\n",
    "\n",
    "matrix = []\n",
    "mean_even_position = []\n",
    "\n",
    "for x in range(3):\n",
    "    line = []\n",
    "    for y in range(3):\n",
    "        line.append(random.randint(0,100))\n",
    "    matrix.append(line)\n",
    "\n",
    "for x in range(3):\n",
    "    for y in range(3):\n",
    "        if (x+y) % 2 == 0:\n",
    "            mean_even_position.append(matrix[x][y])\n",
    "print(\"The matrix one is:\\n\")\n",
    "for x in range(len(matrix)): print(matrix[x]) \n",
    "print(f\"\\nThe mean of the evens is: {statistics.mean(mean_even_position)}\")"
   ]
  },
  {
   "cell_type": "markdown",
   "metadata": {},
   "source": [
    "<h4>6. Make a program that fills a 4x4 matrix with random numbers and displays the sum of the values in each row and column.\n",
    "</h4>"
   ]
  },
  {
   "cell_type": "code",
   "execution_count": null,
   "metadata": {},
   "outputs": [],
   "source": [
    "import random\n",
    "\n",
    "matrix = []\n",
    "for x in range(4):\n",
    "    line = []\n",
    "    for y in range(4):\n",
    "        line.append(random.randint(1,10))\n",
    "    matrix.append(line)"
   ]
  },
  {
   "cell_type": "code",
   "execution_count": null,
   "metadata": {},
   "outputs": [],
   "source": [
    "line_sum = []\n",
    "column_sum = []\n",
    "for x in range(len(matrix)):\n",
    "    line_sum.append(sum(matrix[x]))\n",
    "    column = []\n",
    "    for y in matrix:\n",
    "        column.append(y[x])\n",
    "    column_sum.append(sum(column))\n",
    "\n",
    "print(f\"The values summed in the rows are: {line_sum}\\n\")\n",
    "print(f\"The values summed in the Columns are: {column_sum}\")"
   ]
  },
  {
   "cell_type": "code",
   "execution_count": null,
   "metadata": {},
   "outputs": [],
   "source": [
    "line_sum = []\n",
    "column_sum = []\n",
    "matrix_transponse = list(map(list, zip(*matrix)))\n",
    "for x in matrix:\n",
    "    line_sum.append(sum(x))\n",
    "for x in matrix_transponse:\n",
    "    column_sum.append(sum(x))\n",
    "\n",
    "print(f\"The values summed in the rows are: {line_sum}\\n\")\n",
    "print(f\"The values summed in the Columns are: {column_sum}\")"
   ]
  },
  {
   "cell_type": "code",
   "execution_count": null,
   "metadata": {},
   "outputs": [],
   "source": [
    "import numpy as np\n",
    "\n",
    "# matrix = np.random.randint(0,10,size=(4,4))\n",
    "line_sum = np.sum(matrix,axis=1)\n",
    "column_sum = np.sum(matrix,axis=0)\n",
    "print(f\"The values summed in the rows are: {line_sum}\\n\")\n",
    "print(f\"The values summed in the Columns are: {column_sum}\")"
   ]
  },
  {
   "cell_type": "markdown",
   "metadata": {},
   "source": [
    "<h4>7. Make a program that reads a 3x3 matrix and calculates the matrix's determinant.</h4>"
   ]
  },
  {
   "cell_type": "code",
   "execution_count": null,
   "metadata": {},
   "outputs": [],
   "source": [
    "import numpy as np\n",
    "\n",
    "matrix = np.random.randint(1,10,size=(3,3))\n",
    "print(matrix)\n",
    "print(f\"The determinant of the matrix above is: {np.linalg.det(matrix):.0f}\")"
   ]
  },
  {
   "cell_type": "markdown",
   "metadata": {},
   "source": [
    "<h4>8. Make a program that reads two matrices and gives the multiplication between them. The program should note whether or not it is possible to multiply the two matrices.</h4>"
   ]
  },
  {
   "cell_type": "code",
   "execution_count": null,
   "metadata": {},
   "outputs": [],
   "source": [
    "import random\n",
    "\n",
    "lines_first_matrix, column_first_matrix = 2, 3\n",
    "lines_second_matrix, column_second_matrix = 3, 2\n",
    "\n",
    "if column_first_matrix != lines_second_matrix:\n",
    "    print(\"It is not possible multiply the First matrix with the Second.\")\n",
    "else:\n",
    "    matrix_one = []\n",
    "    for x in range(lines_first_matrix):\n",
    "        line = []\n",
    "        for y in range(column_first_matrix):\n",
    "            line.append(random.randint(1,10))\n",
    "        matrix_one.append(line)\n",
    "    for x in matrix_one: print(x)\n",
    "    print(\"\\n\")\n",
    "\n",
    "    matrix_two = []\n",
    "    for x in range(lines_second_matrix):\n",
    "        line = []\n",
    "        for y in range(column_second_matrix):\n",
    "            line.append(random.randint(1,10))\n",
    "        matrix_two.append(line)\n",
    "    for x in matrix_two: print(x)\n",
    "    print(\"\\n\")\n",
    "\n",
    "    matrix_multiplication = []\n",
    "    for x in range(lines_first_matrix):\n",
    "        line = []\n",
    "        for y in range(column_second_matrix):\n",
    "            element = 0\n",
    "            for z in range(column_first_matrix):\n",
    "                element += matrix_one[x][z] * matrix_two[z][y]\n",
    "            line.append(element)\n",
    "        matrix_multiplication.append(line)\n",
    "    for x in matrix_multiplication: print(x)"
   ]
  },
  {
   "cell_type": "code",
   "execution_count": null,
   "metadata": {},
   "outputs": [],
   "source": [
    "import numpy as np\n",
    "\n",
    "matrix_one = np.random.randint(1,10,size=(3,2))\n",
    "matrix_two = np.random.randint(1,10,size=(2,3))\n",
    "print(\"The first matrix is: \\n\", matrix_one,\"\\n\")\n",
    "print(\"The second matrix is: \\n\",matrix_two,\"\\n\")\n",
    "try:\n",
    "    matrix_prod = matrix_one @ matrix_two\n",
    "    # matrix_prod = np.dot(matrix_one, matrix_two)\n",
    "    # matrix_prod = np.matmul(matrix_one, matrix_two)\n",
    "    print(\"The multipication matrix is: \\n\",matrix_prod)\n",
    "except:\n",
    "    print(\"The sizes of the matrices are incompatible.\")\n",
    "    "
   ]
  },
  {
   "cell_type": "code",
   "execution_count": null,
   "metadata": {},
   "outputs": [],
   "source": [
    "import numpy as np\n",
    "matrix_sizes = [[0]*2 for x in range(2)]\n",
    "for x in range(2): \n",
    "    print(f\"Enter the size for the {x+1}° matrix(x,y): \")\n",
    "    matrix_sizes[x] = [int(input()),int(input())]\n",
    "    print(f\"The size of {x+1}° matrix(x,y) is: {matrix_sizes[x]}\")\n",
    "\n",
    "if matrix_sizes[0][1] == matrix_sizes[1][0]:\n",
    "    matrix_one = np.random.randint(1,10,size=(matrix_sizes[0]))\n",
    "    matrix_two = np.random.randint(1,10,size=(matrix_sizes[1]))\n",
    "    print(\"The first matrix is: \\n\", matrix_one,\"\\n\")\n",
    "    print(\"The second matrix is: \\n\",matrix_two,\"\\n\")\n",
    "    matrix_prod = np.matmul(matrix_one, matrix_two)\n",
    "    print(\"The multipication matrix is: \\n\",matrix_prod)\n",
    "\n",
    "elif matrix_sizes[1][0] == matrix_sizes[0][1]:\n",
    "    matrix_one = np.random.randint(1,10,size=(matrix_sizes[0]))\n",
    "    matrix_two = np.random.randint(1,10,size=(matrix_sizes[1]))\n",
    "    print(\"The first matrix is: \\n\", matrix_one,\"\\n\")\n",
    "    print(\"The second matrix is: \\n\",matrix_two,\"\\n\")\n",
    "    matrix_prod = np.matmul(matrix_two, matrix_one)\n",
    "    print(\"The multipication matrix is: \\n\",matrix_prod)\n",
    "else:\n",
    "    print(\"It is not possible to multiply the matricies\")"
   ]
  },
  {
   "cell_type": "markdown",
   "metadata": {},
   "source": [
    "<h4>9. Make a program that reads a 4x4 matrix and checks that it is a diagonal matrix, i.e. that all the elements outside the main diagonal are equal to zero.</h4>"
   ]
  },
  {
   "cell_type": "code",
   "execution_count": null,
   "metadata": {},
   "outputs": [],
   "source": [
    "matrix = [[1,0,0,1],\n",
    "          [0,1,0,0],\n",
    "          [0,0,1,0],\n",
    "          [0,0,0,1]]\n",
    "interrupt = False\n",
    "\n",
    "for x in range(len(matrix)):\n",
    "    for y in range(len(matrix[x])):\n",
    "        if x != y and matrix[x][y] != 0:\n",
    "            for x in matrix: print(x)\n",
    "            print(\"There is a number out of the main diagonal.\\n\")\n",
    "            interrupt = True\n",
    "            break\n",
    "    if interrupt:\n",
    "        break\n",
    "if interrupt == False:\n",
    "    for x in matrix: print(x)"
   ]
  },
  {
   "cell_type": "markdown",
   "metadata": {},
   "source": [
    "<h4>10. Make a program that reads an m x n matrix, indicating the place where there are mines in a minefield game (0 for neutral field, and 1 for places where there would be mines), and the program should return a matrix indicating, for each position, the number of mines in the neighboring houses.</h4>"
   ]
  },
  {
   "cell_type": "code",
   "execution_count": null,
   "metadata": {},
   "outputs": [],
   "source": [
    "import random\n",
    "\n",
    "lines = int(input(\"Enter the number of lines for the Matrix: \"))\n",
    "columns = int(input(\"Enter the number of columns for the Matrix: \"))\n",
    "matrix = []\n",
    "\n",
    "for x in range(lines):\n",
    "    line = []\n",
    "    for y in range(columns):\n",
    "        line.append(random.randint(0, 1))\n",
    "    matrix.append(line)\n",
    "for x in matrix: print(x)"
   ]
  },
  {
   "cell_type": "code",
   "execution_count": null,
   "metadata": {},
   "outputs": [],
   "source": [
    "matrix_empty = [[0]*columns for x in range(lines)]\n",
    "for x in matrix_empty: print(x)"
   ]
  },
  {
   "cell_type": "code",
   "execution_count": null,
   "metadata": {},
   "outputs": [],
   "source": [
    "for x in range(lines):\n",
    "    for y in range(columns):\n",
    "        if matrix[x][y] == 1:\n",
    "            if x-1 >= 0:\n",
    "                matrix_empty[x-1][y]+=1\n",
    "            if y-1 >= 0:\n",
    "                matrix_empty[x][y-1]+=1\n",
    "            if x-1 >= 0 and y-1 >= 0:\n",
    "                matrix_empty[x-1][y-1]+=1\n",
    "            if x+1 < lines:\n",
    "                matrix_empty[x+1][y]+=1\n",
    "            if y+1 < columns:\n",
    "                matrix_empty[x][y+1]+=1\n",
    "            if x+1 < lines and y+1 < columns:\n",
    "                matrix_empty[x+1][y+1]+=1\n",
    "            if x+1 < lines and y-1 >= 0:\n",
    "                matrix_empty[x+1][y-1]+=1\n",
    "            if x-1 >= 0 and y+1 < columns:\n",
    "                matrix_empty[x-1][y+1]+=1"
   ]
  },
  {
   "cell_type": "code",
   "execution_count": null,
   "metadata": {},
   "outputs": [],
   "source": [
    "for x in matrix_empty: print(x)"
   ]
  }
 ],
 "metadata": {
  "kernelspec": {
   "display_name": "DataScience",
   "language": "python",
   "name": "python3"
  },
  "language_info": {
   "codemirror_mode": {
    "name": "ipython",
    "version": 3
   },
   "file_extension": ".py",
   "mimetype": "text/x-python",
   "name": "python",
   "nbconvert_exporter": "python",
   "pygments_lexer": "ipython3",
   "version": "3.9.16"
  },
  "orig_nbformat": 4
 },
 "nbformat": 4,
 "nbformat_minor": 2
}
