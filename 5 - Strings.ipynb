{
 "cells": [
  {
   "cell_type": "markdown",
   "metadata": {},
   "source": [
    "<h1>Python Exercises</h1>\n",
    "<h2>Strings (10 exercises)</h2>"
   ]
  },
  {
   "cell_type": "markdown",
   "metadata": {},
   "source": [
    "<h4>1. Create a program that reads two words and concatenates them, displaying the resulting word.</h4>"
   ]
  },
  {
   "cell_type": "code",
   "execution_count": null,
   "metadata": {},
   "outputs": [],
   "source": [
    "word_one = \"This is\"\n",
    "word_two = \"Python\"\n",
    "print(word_one + \" \" + word_two )"
   ]
  },
  {
   "cell_type": "markdown",
   "metadata": {},
   "source": [
    "<h4>2. Make a program that receives a word and displays each letter separately.</h4>"
   ]
  },
  {
   "cell_type": "code",
   "execution_count": null,
   "metadata": {},
   "outputs": [],
   "source": [
    "word = \"This is Python!\"\n",
    "word = list(word)\n",
    "str(word)"
   ]
  },
  {
   "cell_type": "code",
   "execution_count": null,
   "metadata": {},
   "outputs": [],
   "source": [
    "word = \"This is Python!\"\n",
    "word_iterable = iter(word)\n",
    "try:\n",
    "    while True:\n",
    "        print(next(word_iterable))\n",
    "except StopIteration:\n",
    "    pass"
   ]
  },
  {
   "cell_type": "code",
   "execution_count": null,
   "metadata": {},
   "outputs": [],
   "source": [
    "word = \"This is Python!\"\n",
    "for x in word: print(x,\" \",end=\"\")"
   ]
  },
  {
   "cell_type": "markdown",
   "metadata": {},
   "source": [
    "<h4>3. Create a program that receives a sentence and replaces all the letters \"a\" with \"e\".</h4>"
   ]
  },
  {
   "cell_type": "code",
   "execution_count": null,
   "metadata": {},
   "outputs": [],
   "source": [
    "word = \"aeaeae aeaea\"\n",
    "word.replace(\"a\", \"e\")"
   ]
  },
  {
   "cell_type": "code",
   "execution_count": null,
   "metadata": {},
   "outputs": [],
   "source": [
    "word = \"aeaeae aeaea\"\n",
    "word_list = list(word)\n",
    "for x in range(len(word_list)):\n",
    "    if word_list[x] == \"a\":\n",
    "        word_list[x] = \"e\"\n",
    "word = \"\".join(word_list)\n",
    "print(word)"
   ]
  },
  {
   "cell_type": "markdown",
   "metadata": {},
   "source": [
    "<h4>4. Write a program that receives a name and checks if it begins with the letter \"A\".</h4>"
   ]
  },
  {
   "cell_type": "code",
   "execution_count": null,
   "metadata": {},
   "outputs": [],
   "source": [
    "name = \"Ana\"\n",
    "name.startswith(\"A\")"
   ]
  },
  {
   "cell_type": "markdown",
   "metadata": {},
   "source": [
    "<h4>5. Make a program that reads a word and checks if it is a palindrome (if it can be read the same way backwards).</h4>"
   ]
  },
  {
   "cell_type": "code",
   "execution_count": null,
   "metadata": {},
   "outputs": [],
   "source": [
    "word = \"arara arara\"\n",
    "palindrome = word.replace(\" \",\"\").lower()[::-1]\n",
    "print (word,\" is a palindrome\") if word.replace(\" \", \"\") == palindrome else print(word, \"is not a palindrome\")"
   ]
  },
  {
   "cell_type": "markdown",
   "metadata": {},
   "source": [
    "<h4>6. Create a program that reads two words and checks whether the second word is an anagram of the first.</h4>"
   ]
  },
  {
   "cell_type": "code",
   "execution_count": null,
   "metadata": {},
   "outputs": [],
   "source": [
    "word_one = \"word one\"\n",
    "word_two = \"woone rd\"\n",
    "print(\"It is an anagram\") if sorted(word_one.lower()) == sorted(word_two.lower()) else print(\"It is not an anagram\")"
   ]
  },
  {
   "cell_type": "code",
   "execution_count": null,
   "metadata": {},
   "outputs": [],
   "source": [
    "word_one = \"word one\"\n",
    "word_two = \"woone rd\"\n",
    "words = [word_one, word_two]\n",
    "for x in words: words[words.index(x)] = sorted(x.replace(\" \",\"\"))\n",
    "all(x == words[0] for x in words)"
   ]
  },
  {
   "cell_type": "code",
   "execution_count": null,
   "metadata": {},
   "outputs": [],
   "source": [
    "word_one = \"word one\"\n",
    "word_two = \"woone rd\"\n",
    "words = [\"\".join(sorted(word_one)).lower(), \"\".join(sorted(word_two)).lower()]\n",
    "len(set(words)) == 1 \n"
   ]
  },
  {
   "cell_type": "markdown",
   "metadata": {},
   "source": [
    "<h4>7. Write a program that receives a full name and displays only the first name.</h4>"
   ]
  },
  {
   "cell_type": "code",
   "execution_count": null,
   "metadata": {},
   "outputs": [],
   "source": [
    "name = \"Luiz Henrique Zeferino-Bolen\"\n",
    "print(name.split()[0])"
   ]
  },
  {
   "cell_type": "code",
   "execution_count": null,
   "metadata": {},
   "outputs": [],
   "source": [
    "name = \"Luiz Henrique Zeferino-Bolen\"\n",
    "first_name = []\n",
    "for x in name:\n",
    "    if x != \" \":\n",
    "        first_name.append(x)\n",
    "    else:\n",
    "        break\n",
    "first_name = \"\".join(first_name)\n",
    "print(first_name)"
   ]
  },
  {
   "cell_type": "markdown",
   "metadata": {},
   "source": [
    "<h4>8. Make a program that receives a sentence and displays the number of blank spaces in it.</h4>"
   ]
  },
  {
   "cell_type": "code",
   "execution_count": null,
   "metadata": {},
   "outputs": [],
   "source": [
    "sentence = \"I'm a sentence with five spaces\"\n",
    "sentence.count(\" \")"
   ]
  },
  {
   "cell_type": "markdown",
   "metadata": {},
   "source": [
    "<h4>9. Create a program that reads a word and displays the number of vowels in it.</h4>"
   ]
  },
  {
   "cell_type": "code",
   "execution_count": null,
   "metadata": {},
   "outputs": [],
   "source": [
    "word = \"My name is Luiz\"\n",
    "vowels = 0\n",
    "for x in word:\n",
    "    for y in \"aeiou\":\n",
    "        if y in x.lower(): vowels+=1 \n",
    "vowels"
   ]
  },
  {
   "cell_type": "code",
   "execution_count": null,
   "metadata": {},
   "outputs": [],
   "source": [
    "import re\n",
    "word = \"My name is Luiz\"\n",
    "count_vowel = len(re.findall(f\"[{'aieou'}]\", word, re.I))\n",
    "count_vowel"
   ]
  },
  {
   "cell_type": "markdown",
   "metadata": {},
   "source": [
    "<h4>10. Write a program that receives a full name and displays the surname (last name) first.</h4>"
   ]
  },
  {
   "cell_type": "code",
   "execution_count": null,
   "metadata": {},
   "outputs": [],
   "source": [
    "name = \"Luiz Henrique Zeferino-Bolen\"\n",
    "name.split()[-1]"
   ]
  },
  {
   "cell_type": "code",
   "execution_count": null,
   "metadata": {},
   "outputs": [],
   "source": [
    "name = \"Luiz Henrique Zeferino-Bolen\"\n",
    "surname = name[::-1]\n",
    "surname = surname[0:surname.index(\" \")]\n",
    "surname = surname[::-1]\n",
    "print(surname)"
   ]
  }
 ],
 "metadata": {
  "kernelspec": {
   "display_name": "DataScience",
   "language": "python",
   "name": "python3"
  },
  "language_info": {
   "codemirror_mode": {
    "name": "ipython",
    "version": 3
   },
   "file_extension": ".py",
   "mimetype": "text/x-python",
   "name": "python",
   "nbconvert_exporter": "python",
   "pygments_lexer": "ipython3",
   "version": "3.9.16"
  },
  "orig_nbformat": 4
 },
 "nbformat": 4,
 "nbformat_minor": 2
}
