{
 "cells": [
  {
   "cell_type": "markdown",
   "metadata": {},
   "source": [
    "<h1>Python Exercises</h1>\n",
    "<h2>Recursive Functions (10 exercises)</h2>"
   ]
  },
  {
   "cell_type": "markdown",
   "metadata": {},
   "source": [
    "<h4>1. Write a recursive function to calculate the factorial of a number.</h4>"
   ]
  },
  {
   "cell_type": "code",
   "execution_count": null,
   "metadata": {},
   "outputs": [],
   "source": [
    "def factorial(number):\n",
    "    if number <= 1:\n",
    "        return 1\n",
    "    else:\n",
    "        return number*factorial(number-1)"
   ]
  },
  {
   "cell_type": "code",
   "execution_count": null,
   "metadata": {},
   "outputs": [],
   "source": [
    "def factorial_two(number):\n",
    "    return 1 if number<=1 else number*factorial(number-1)"
   ]
  },
  {
   "cell_type": "code",
   "execution_count": null,
   "metadata": {},
   "outputs": [],
   "source": [
    "print(factorial(4))\n",
    "print(factorial_two(4))"
   ]
  },
  {
   "cell_type": "markdown",
   "metadata": {},
   "source": [
    "<h4>2. Implement a recursive function to calculate the Fibonacci sequence up to a given number.</h4>"
   ]
  },
  {
   "cell_type": "code",
   "execution_count": null,
   "metadata": {},
   "outputs": [],
   "source": [
    "def fibonacci(number):\n",
    "    if number<=1:\n",
    "        return number\n",
    "    else:\n",
    "        return fibonacci(number-1) + fibonacci(number-2)"
   ]
  },
  {
   "cell_type": "code",
   "execution_count": null,
   "metadata": {},
   "outputs": [],
   "source": [
    "def fibonacci_two(number):\n",
    "    if number<2:\n",
    "        return number\n",
    "    else:\n",
    "        return fibonacci(number-1) + fibonacci(number-2)"
   ]
  },
  {
   "cell_type": "code",
   "execution_count": null,
   "metadata": {},
   "outputs": [],
   "source": [
    "def fibonacci_three(number):\n",
    "    if number==0:\n",
    "        return 0\n",
    "    elif number == 1:\n",
    "        return 1\n",
    "    else:\n",
    "        return fibonacci(number-1) + fibonacci(number-2)"
   ]
  },
  {
   "cell_type": "code",
   "execution_count": null,
   "metadata": {},
   "outputs": [],
   "source": [
    "print(fibonacci(7))\n",
    "print(fibonacci_two(7))\n",
    "print(fibonacci_three(7))"
   ]
  },
  {
   "cell_type": "markdown",
   "metadata": {},
   "source": [
    "<h4>3. Create a recursive function to check if a number is prime.</h4>"
   ]
  },
  {
   "cell_type": "code",
   "execution_count": null,
   "metadata": {},
   "outputs": [],
   "source": [
    "def prime(number, divisor = 2):\n",
    "    if number <= 1:\n",
    "        return False\n",
    "    elif divisor**2 > number:\n",
    "        return True\n",
    "    elif number % divisor == 0:\n",
    "        return False\n",
    "    else:\n",
    "        return prime(number, divisor+1)       "
   ]
  },
  {
   "cell_type": "code",
   "execution_count": null,
   "metadata": {},
   "outputs": [],
   "source": [
    "print(prime(7))"
   ]
  },
  {
   "cell_type": "markdown",
   "metadata": {},
   "source": [
    "<h4>4. Develop a recursive function to calculate the sum of the digits of an integer.</h4>"
   ]
  },
  {
   "cell_type": "code",
   "execution_count": null,
   "metadata": {},
   "outputs": [],
   "source": [
    "def sum_digits(number):\n",
    "    if number < 10:\n",
    "        return number\n",
    "    end_digit = number % 10\n",
    "    return end_digit + sum_digits(number // 10)"
   ]
  },
  {
   "cell_type": "code",
   "execution_count": null,
   "metadata": {},
   "outputs": [],
   "source": [
    "print (sum_digits(1234))"
   ]
  },
  {
   "cell_type": "markdown",
   "metadata": {},
   "source": [
    "<h4>5. Write a recursive function to calculate the power of an integer raised to an exponent.</h4>"
   ]
  },
  {
   "cell_type": "code",
   "execution_count": null,
   "metadata": {},
   "outputs": [],
   "source": [
    "def power(number, exponent):\n",
    "    if exponent == 0:\n",
    "        return 1\n",
    "    if exponent == 1:\n",
    "        return number\n",
    "    if exponent % 2 == 0:\n",
    "        return power(number, exponent // 2) ** 2\n",
    "    else:\n",
    "        return number * power(number, (exponent-1) // 2) ** 2"
   ]
  },
  {
   "cell_type": "code",
   "execution_count": null,
   "metadata": {},
   "outputs": [],
   "source": [
    "def power_two(number, exponent):\n",
    "    if exponent == 0:\n",
    "        return 1\n",
    "    if exponent == 1:\n",
    "        return number\n",
    "    else:\n",
    "        return number * power(number, exponent-1)"
   ]
  },
  {
   "cell_type": "code",
   "execution_count": null,
   "metadata": {},
   "outputs": [],
   "source": [
    "def power_three(number, exponent):\n",
    "    if exponent < 0:\n",
    "        return 1 / (power(number, exponent*(-1)))\n",
    "    if exponent == 0:\n",
    "        return 1\n",
    "    if exponent == 1:\n",
    "        return number\n",
    "    else:\n",
    "        return number * power(number, (exponent-1))"
   ]
  },
  {
   "cell_type": "code",
   "execution_count": null,
   "metadata": {},
   "outputs": [],
   "source": [
    "print (power(2, 1))\n",
    "print (power_two(2, 1))\n",
    "print (power_three(2, -1))"
   ]
  },
  {
   "cell_type": "markdown",
   "metadata": {},
   "source": [
    "<h4>6. Implement a recursive function to find the maximum common divisor (MDC) of two numbers.</h4>"
   ]
  },
  {
   "cell_type": "code",
   "execution_count": null,
   "metadata": {},
   "outputs": [],
   "source": [
    "def mcd(number_one, number_two):\n",
    "    if number_two == 0:\n",
    "        return number_one\n",
    "    else:\n",
    "        return mcd(number_two, number_one % number_two)"
   ]
  },
  {
   "cell_type": "code",
   "execution_count": null,
   "metadata": {},
   "outputs": [],
   "source": [
    "mcd(27,9)"
   ]
  },
  {
   "cell_type": "markdown",
   "metadata": {},
   "source": [
    "<h4>7. Create a recursive function to invert a string.</h4>"
   ]
  },
  {
   "cell_type": "code",
   "execution_count": null,
   "metadata": {},
   "outputs": [],
   "source": [
    "def reverse_text(text):\n",
    "    if len(text) < 1:\n",
    "        return text\n",
    "    else:\n",
    "        return text[-1] + reverse_text(text[:-1])"
   ]
  },
  {
   "cell_type": "code",
   "execution_count": null,
   "metadata": {},
   "outputs": [],
   "source": [
    "reverse_text(\"LUIZ\")"
   ]
  },
  {
   "cell_type": "markdown",
   "metadata": {},
   "source": [
    "<h4>8. Develop a recursive function to find the smallest value in a vector.</h4>"
   ]
  },
  {
   "cell_type": "code",
   "execution_count": null,
   "metadata": {},
   "outputs": [],
   "source": [
    "def find_smallest(_list):\n",
    "    if len(_list) == 1:\n",
    "        return _list[0]\n",
    "    else:\n",
    "        rest = find_smallest(_list[1:])\n",
    "        if _list[0] < rest:\n",
    "            return _list[0]\n",
    "        else: \n",
    "            return rest"
   ]
  },
  {
   "cell_type": "code",
   "execution_count": null,
   "metadata": {},
   "outputs": [],
   "source": [
    "find_smallest([7,5,9,4,3,6,8])"
   ]
  },
  {
   "cell_type": "markdown",
   "metadata": {},
   "source": [
    "<h4>9. Write a recursive function to determine if a word is a palindrome.</h4>"
   ]
  },
  {
   "cell_type": "code",
   "execution_count": null,
   "metadata": {},
   "outputs": [],
   "source": [
    "def palindrome(text:str):\n",
    "    if len(text) <= 1:\n",
    "        return True\n",
    "    if text[0] == text [-1]:\n",
    "        return palindrome(text [1:-1])\n",
    "    else:\n",
    "        return False"
   ]
  },
  {
   "cell_type": "code",
   "execution_count": null,
   "metadata": {},
   "outputs": [],
   "source": [
    "palindrome(\"aRarA arara\".lower().replace(\" \",\"\"))"
   ]
  },
  {
   "cell_type": "markdown",
   "metadata": {},
   "source": [
    "<h4>10. Implement a recursive function to calculate the sum of the elements of a vector.</h4>"
   ]
  },
  {
   "cell_type": "code",
   "execution_count": null,
   "metadata": {},
   "outputs": [],
   "source": [
    "def sum_elements(_list):\n",
    "    if len(_list) == 0:\n",
    "        return 0\n",
    "    return _list[0] + sum_elements(_list[1:])"
   ]
  },
  {
   "cell_type": "code",
   "execution_count": null,
   "metadata": {},
   "outputs": [],
   "source": [
    "sum_elements([1,2,3,4])"
   ]
  }
 ],
 "metadata": {
  "kernelspec": {
   "display_name": "DataScience",
   "language": "python",
   "name": "python3"
  },
  "language_info": {
   "codemirror_mode": {
    "name": "ipython",
    "version": 3
   },
   "file_extension": ".py",
   "mimetype": "text/x-python",
   "name": "python",
   "nbconvert_exporter": "python",
   "pygments_lexer": "ipython3",
   "version": "3.9.16"
  },
  "orig_nbformat": 4
 },
 "nbformat": 4,
 "nbformat_minor": 2
}
