{
 "cells": [
  {
   "cell_type": "markdown",
   "metadata": {},
   "source": [
    "<h1>Python Exercises</h1>"
   ]
  },
  {
   "cell_type": "markdown",
   "metadata": {},
   "source": [
    "<h4>\n",
    "    Mathematical Formulas (15 exercises)<br>\n",
    "    Conditional (20 exercises)<br>\n",
    "    Repeat loop (25 exercises)<br> \n",
    "    Vectors (10 exercises)<br> \n",
    "    Strings (10 exercises)<br> \n",
    "    Matrix (10 exercises)<br> \n",
    "    Recursive Functions (10 exercises)<br> \n",
    "    Extra exercises\n",
    "</h4>"
   ]
  },
  {
   "cell_type": "markdown",
   "metadata": {},
   "source": [
    "<h3>Mathematical Formulas</h3>"
   ]
  },
  {
   "cell_type": "markdown",
   "metadata": {},
   "source": [
    "<h4>\n",
    "1. Write a program that prompts the user for two numbers and displays the addition, subtraction, multiplication, and division between them.\n",
    "</h4>"
   ]
  },
  {
   "cell_type": "code",
   "execution_count": null,
   "metadata": {},
   "outputs": [],
   "source": [
    "number_one = int(input(\"Insert the first number:\"))\n",
    "number_two = int(input(\"Insert the second number:\"))"
   ]
  },
  {
   "cell_type": "code",
   "execution_count": null,
   "metadata": {},
   "outputs": [],
   "source": [
    "addition = number_one + number_two\n",
    "subtraction = number_one - number_two\n",
    "multiplication = number_one * number_two\n",
    "if (number_two!=0):\n",
    "    division = float(\"{:.2f}\".format(number_one / number_two))\n",
    "else:\n",
    "    division = \"It is not possible to divide a number by 0.\"\n",
    "list_type = [type(addition), type(subtraction), type(multiplication), type(division)] "
   ]
  },
  {
   "cell_type": "code",
   "execution_count": null,
   "metadata": {
    "scrolled": true
   },
   "outputs": [],
   "source": [
    "print(list_type)\n",
    "print(f\"The addition result is: {addition}\")\n",
    "print(\"The subtraction result is: {}\".format(subtraction))\n",
    "print(\"The multiplication result is:\", multiplication)\n",
    "print(\"The division result is: {}\".format(division))"
   ]
  },
  {
   "cell_type": "markdown",
   "metadata": {},
   "source": [
    "<h4>2. Write a program that calculates the arithmetic average of two numbers.</h4>"
   ]
  },
  {
   "cell_type": "code",
   "execution_count": null,
   "metadata": {},
   "outputs": [],
   "source": [
    "number_one = int(input(\"Insert the first number:\"))\n",
    "number_two = int(input(\"Insert the second number:\"))"
   ]
  },
  {
   "cell_type": "code",
   "execution_count": null,
   "metadata": {},
   "outputs": [],
   "source": [
    "average = float(\"{:.2f}\".format((number_one + number_two) / 2))"
   ]
  },
  {
   "cell_type": "code",
   "execution_count": null,
   "metadata": {},
   "outputs": [],
   "source": [
    "print (\"The average of the sum between {} and {} is: {}\".format(number_one, number_two, average))"
   ]
  },
  {
   "cell_type": "markdown",
   "metadata": {},
   "source": [
    "<h4>3. Create a program that calculates and displays the arithmetic average of three user-informed notes.</h4>"
   ]
  },
  {
   "cell_type": "markdown",
   "metadata": {},
   "source": [
    "<h4>4. Write a program that calculates the geometric mean among three numbers informed by the user</h4>"
   ]
  },
  {
   "cell_type": "markdown",
   "metadata": {},
   "source": [
    "<h4>5. Write a program that calculates an individual's BMI, using the formula BMI = weight / height²</h4>"
   ]
  },
  {
   "cell_type": "markdown",
   "metadata": {},
   "source": [
    "<h4>6. Create a program that calculates and displays the perimeter of a circle, asking the user for the radius.</h4>"
   ]
  },
  {
   "cell_type": "markdown",
   "metadata": {},
   "source": [
    "<h4>7. Write a program that calculates the area of a circle from the radius, using the formula a = πr²</h4>"
   ]
  },
  {
   "cell_type": "markdown",
   "metadata": {},
   "source": [
    "<h4>8. Write a program that calculates the delta of a second degree equation (δ = b² - 4ac).</h4>"
   ]
  },
  {
   "cell_type": "markdown",
   "metadata": {},
   "source": [
    "<h4>9. Write a program that calculates the perimeter and area of a rectangle, using the formulas P = 2(L + C) and A = LC, where L is the width and C is the length</h4>"
   ]
  },
  {
   "cell_type": "markdown",
   "metadata": {},
   "source": [
    "<h4>10. Write a program that calculates the perimeter and area of a triangle, using the formulas P = A + B + C and A = (B * H) / 2, where A, B and C are the sides of the triangle and H is the height relative to side B.</h4>"
   ]
  },
  {
   "cell_type": "markdown",
   "metadata": {},
   "source": [
    "<h4>11. Write a program that calculates the average speed of an object, using the formula V = ΔS/ΔT, where V is the average velocity, ΔS is the variation of space and Δt is the time variation</h4>"
   ]
  },
  {
   "cell_type": "markdown",
   "metadata": {},
   "source": [
    "<h4>12. Write a program that calculates the kinetic energy of an object in motion, using the formula E = (mV²) / 2, where E is the kinetic energy, M is the mass of the object and V is the velocity.</h4>"
   ]
  },
  {
   "cell_type": "markdown",
   "metadata": {},
   "source": [
    "<h4>13. Write a program that calculates the work done by a force acting on an object, using the formula t = f * d, where t is the work, f is the force applied and d is the distance traveled by the object.</h4>"
   ]
  },
  {
   "cell_type": "markdown",
   "metadata": {},
   "source": [
    "<h4>14. Write a program that reads the X and Y position of two points on the Cartesian plane, and calculate the distance between them.</h4>"
   ]
  },
  {
   "cell_type": "markdown",
   "metadata": {},
   "source": [
    "<h4>15. Create a program that asks the user for the radius value of a sphere and calculates and displays its volume.</h4>"
   ]
  },
  {
   "cell_type": "markdown",
   "metadata": {},
   "source": [
    "<h3>Conditional</h3>"
   ]
  },
  {
   "cell_type": "code",
   "execution_count": null,
   "metadata": {},
   "outputs": [],
   "source": []
  },
  {
   "cell_type": "markdown",
   "metadata": {},
   "source": [
    "<h3>Repeat loop</h3>"
   ]
  },
  {
   "cell_type": "code",
   "execution_count": null,
   "metadata": {},
   "outputs": [],
   "source": []
  },
  {
   "cell_type": "markdown",
   "metadata": {},
   "source": [
    "<h3>Vectors</h3>"
   ]
  },
  {
   "cell_type": "code",
   "execution_count": null,
   "metadata": {},
   "outputs": [],
   "source": []
  },
  {
   "cell_type": "markdown",
   "metadata": {},
   "source": [
    "<h3>Strings</h3>"
   ]
  },
  {
   "cell_type": "code",
   "execution_count": null,
   "metadata": {},
   "outputs": [],
   "source": []
  },
  {
   "cell_type": "markdown",
   "metadata": {},
   "source": [
    "<h3>Matrix</h3>"
   ]
  },
  {
   "cell_type": "code",
   "execution_count": null,
   "metadata": {},
   "outputs": [],
   "source": []
  },
  {
   "cell_type": "markdown",
   "metadata": {},
   "source": [
    "<h3>Recursive Functions</h3>"
   ]
  },
  {
   "cell_type": "code",
   "execution_count": null,
   "metadata": {},
   "outputs": [],
   "source": []
  },
  {
   "cell_type": "markdown",
   "metadata": {},
   "source": [
    "<h3>Extra exercises</h3>"
   ]
  },
  {
   "cell_type": "code",
   "execution_count": null,
   "metadata": {},
   "outputs": [],
   "source": []
  }
 ],
 "metadata": {
  "kernelspec": {
   "display_name": "Python 3 (ipykernel)",
   "language": "python",
   "name": "python3"
  },
  "language_info": {
   "codemirror_mode": {
    "name": "ipython",
    "version": 3
   },
   "file_extension": ".py",
   "mimetype": "text/x-python",
   "name": "python",
   "nbconvert_exporter": "python",
   "pygments_lexer": "ipython3",
   "version": "3.11.0"
  },
  "widgets": {
   "application/vnd.jupyter.widget-state+json": {
    "state": {},
    "version_major": 2,
    "version_minor": 0
   }
  }
 },
 "nbformat": 4,
 "nbformat_minor": 2
}
