{
 "cells": [
  {
   "cell_type": "markdown",
   "metadata": {},
   "source": [
    "<h1>Python Exercises</h1>\n",
    "<h2>Vectors (10 exercises)</h2>"
   ]
  },
  {
   "cell_type": "markdown",
   "metadata": {},
   "source": [
    "<h4>1. Create a program that reads a vector of integers and displays the sum of all the elements.</h4>"
   ]
  },
  {
   "cell_type": "code",
   "execution_count": null,
   "metadata": {},
   "outputs": [],
   "source": [
    "vector = [0,1,2,3,2,3,4,5,7,3,2,10,22,2,9,2]\n",
    "_sum = 0\n",
    "for x in vector:\n",
    "    _sum += x \n",
    "print(_sum)"
   ]
  },
  {
   "cell_type": "code",
   "execution_count": null,
   "metadata": {},
   "outputs": [],
   "source": [
    "vector = [0,1,2,3,2,3,4,5,7,3,2,10,22,2,9,2]\n",
    "sum(vector)"
   ]
  },
  {
   "cell_type": "markdown",
   "metadata": {},
   "source": [
    "<h4>2. Make a program that reads a vector of integers and displays the largest element in the vector.</h4>"
   ]
  },
  {
   "cell_type": "code",
   "execution_count": null,
   "metadata": {},
   "outputs": [],
   "source": [
    "vector = [0,1,2,3,2,3,4,5,7,3,2,10,22,2,9,2]\n",
    "_max = 0\n",
    "for x in vector:\n",
    "    if _max < x:\n",
    "        _max = x\n",
    "print(_max)"
   ]
  },
  {
   "cell_type": "code",
   "execution_count": null,
   "metadata": {},
   "outputs": [],
   "source": [
    "vector = [0,1,2,3,2,3,4,5,7,3,2,10,22,2,9,2]\n",
    "max(vector)"
   ]
  },
  {
   "cell_type": "markdown",
   "metadata": {},
   "source": [
    "<h4>3. Write a program that reads a vector of integers and displays the average of the elements.</h4>"
   ]
  },
  {
   "cell_type": "code",
   "execution_count": null,
   "metadata": {},
   "outputs": [],
   "source": [
    "vector = [0,1,2,3,2,3,4,5,7,3,2,10,22,2,9,2]\n",
    "_mean = 0\n",
    "for x in vector:\n",
    "    _mean += x\n",
    "print(_mean/len(vector))"
   ]
  },
  {
   "cell_type": "code",
   "execution_count": null,
   "metadata": {},
   "outputs": [],
   "source": [
    "from statistics import mean\n",
    "vector = [0,1,2,3,2,3,4,5,7,3,2,10,22,2,9,2]\n",
    "mean(vector)"
   ]
  },
  {
   "cell_type": "markdown",
   "metadata": {},
   "source": [
    "<h4>4. Create a program that reads two vectors of integers with the same size and displays a new vector with the sum of the corresponding elements of the two vectors.</h4>"
   ]
  },
  {
   "cell_type": "code",
   "execution_count": null,
   "metadata": {},
   "outputs": [],
   "source": [
    "vector_one = [0,1,2,3,2,3,4,5,7,3,2,10,22,2,9,2]\n",
    "vector_two = [0,1,2,3,2,3,4,5,7,3,2,10,22,2,9,2]\n",
    "vector = [0,0,0,0,0,0,0,0,0,0,0,0,0,0,0,0]\n",
    "for x in range(len(vector)):\n",
    "    vector[x] = vector_one[x] + vector_two[x]\n",
    "print (vector)"
   ]
  },
  {
   "cell_type": "code",
   "execution_count": null,
   "metadata": {},
   "outputs": [],
   "source": [
    "vector_one = [0,1,2,3,2,3,4,5,7,3,2,10,22,2,9,2]\n",
    "vector_two = [0,1,2,3,2,3,4,5,7,3,2,10,22,2,9,2]\n",
    "vector = [sum(x) for x in zip(vector_one, vector_two)]\n",
    "print (vector)"
   ]
  },
  {
   "cell_type": "code",
   "execution_count": null,
   "metadata": {},
   "outputs": [],
   "source": [
    "vector = [[0,1,2,3,2,3,4,5,7,3,2,10,22,2,9,2], [0,1,2,3,2,3,4,5,7,3,2,10,22,2,9,2]]\n",
    "[sum(x) for x in zip(*vector)]"
   ]
  },
  {
   "cell_type": "markdown",
   "metadata": {},
   "source": [
    "<h4>5. Make a program that reads a vector of integers and checks that it is in ascending order.</h4>"
   ]
  },
  {
   "cell_type": "code",
   "execution_count": null,
   "metadata": {},
   "outputs": [],
   "source": [
    "vector = [0,1,2,3,4]\n",
    "print (f\"It is in ascending Order {vector}\") if vector == sorted(vector) else print (\"It is not in ascending Order\")"
   ]
  },
  {
   "cell_type": "markdown",
   "metadata": {},
   "source": [
    "<h4>6. Write a program that reads a vector of integers and displays the elements in reverse order.</h4>"
   ]
  },
  {
   "cell_type": "code",
   "execution_count": null,
   "metadata": {},
   "outputs": [],
   "source": [
    "vector = [0,1,2,3,4]\n",
    "vector[::-1]"
   ]
  },
  {
   "cell_type": "code",
   "execution_count": null,
   "metadata": {},
   "outputs": [],
   "source": [
    "vector = [0,1,2,3,4]\n",
    "vector_reversed = []\n",
    "for x in vector[::-1]: vector_reversed.append(x)\n",
    "print (vector_reversed)"
   ]
  },
  {
   "cell_type": "code",
   "execution_count": null,
   "metadata": {},
   "outputs": [],
   "source": [
    "vector = [0,1,2,3,4]\n",
    "vector.reverse()\n",
    "print (vector)"
   ]
  },
  {
   "cell_type": "code",
   "execution_count": null,
   "metadata": {},
   "outputs": [],
   "source": [
    "vector = [0,1,2,3,4]\n",
    "print (vector, list(reversed(vector)))"
   ]
  },
  {
   "cell_type": "markdown",
   "metadata": {},
   "source": [
    "<h4>7. Create a program that reads a vector of integers and finds the second largest element in the vector.</h4>"
   ]
  },
  {
   "cell_type": "code",
   "execution_count": null,
   "metadata": {},
   "outputs": [],
   "source": [
    "vector = [0,1,6,4,4,6]\n",
    "print (sorted(set(vector))[-2])"
   ]
  },
  {
   "cell_type": "code",
   "execution_count": null,
   "metadata": {},
   "outputs": [],
   "source": [
    "vector = [0,1,6,4,4,6]\n",
    "vector.sort()\n",
    "list(set(vector))[-2]\n"
   ]
  },
  {
   "cell_type": "code",
   "execution_count": null,
   "metadata": {},
   "outputs": [],
   "source": [
    "import heapq as o\n",
    "vector = [0,1,6,4,4,6]\n",
    "print(o.nlargest(2, set(vector))[-1])"
   ]
  },
  {
   "cell_type": "markdown",
   "metadata": {},
   "source": [
    "<h4>8. Make a program that reads a vector of integers and displays how many times a specific number appears in the vector.</h4>"
   ]
  },
  {
   "cell_type": "code",
   "execution_count": null,
   "metadata": {},
   "outputs": [],
   "source": [
    "vector = [0,1,6,4,4,6,6,]\n",
    "vector.count(6)"
   ]
  },
  {
   "cell_type": "markdown",
   "metadata": {},
   "source": [
    "<h4>9. Write a program that reads two vectors of integers of the same size and displays a new vector with the elements resulting from multiplying the corresponding elements of the two vectors.</h4>"
   ]
  },
  {
   "cell_type": "code",
   "execution_count": null,
   "metadata": {},
   "outputs": [],
   "source": [
    "vector_one = [1,2,3,4,5,6]\n",
    "vector_two = [0,1,6,4,4,6]\n",
    "[x*y for x, y in zip(vector_one, vector_two)]"
   ]
  },
  {
   "cell_type": "code",
   "execution_count": null,
   "metadata": {},
   "outputs": [],
   "source": [
    "vector_one = [1,2,3,4,5,6]\n",
    "vector_two = [0,1,6,4,4,6]\n",
    "[x[0]*x[1] for x in zip(vector_one, vector_two)]"
   ]
  },
  {
   "cell_type": "code",
   "execution_count": null,
   "metadata": {},
   "outputs": [],
   "source": [
    "import math\n",
    "vector_one = [1,2,3,4,5,6]\n",
    "vector_two = [0,1,6,4,4,6]\n",
    "[math.prod(x) for x in zip(vector_one, vector_two)]"
   ]
  },
  {
   "cell_type": "code",
   "execution_count": null,
   "metadata": {},
   "outputs": [],
   "source": [
    "import numpy as np\n",
    "vector_one = np.array([1,2,3,4,5,6])\n",
    "vector_two = np.array([0,1,6,4,4,6])\n",
    "np.multiply(vector_one, vector_two)"
   ]
  },
  {
   "cell_type": "markdown",
   "metadata": {},
   "source": [
    "<h4>10. Create a program that reads a vector of integers and checks that all the elements are even.</h4>"
   ]
  },
  {
   "cell_type": "code",
   "execution_count": null,
   "metadata": {},
   "outputs": [],
   "source": [
    "vector = [2,2,2,2,4,6,8]\n",
    "check_vector = True\n",
    "for x in vector:\n",
    "    if x%2!=0:\n",
    "        check_vector = False\n",
    "        break\n",
    "if check_vector:\n",
    "    print(\"All the numbers are even.\")\n",
    "else:\n",
    "    print(\"There is a odd! So non of the numbers are even.\")"
   ]
  },
  {
   "cell_type": "code",
   "execution_count": null,
   "metadata": {},
   "outputs": [],
   "source": [
    "import numpy as np\n",
    "vector = np.array([2,2,2,2,4,6,8])\n",
    "if False in (np.mod(vector,2) == 0):\n",
    "    print(\"There is a odd! So non of the numbers are even.\")\n",
    "else:\n",
    "    print(\"All the numbers are even.\")"
   ]
  }
 ],
 "metadata": {
  "kernelspec": {
   "display_name": "DataScience",
   "language": "python",
   "name": "python3"
  },
  "language_info": {
   "codemirror_mode": {
    "name": "ipython",
    "version": 3
   },
   "file_extension": ".py",
   "mimetype": "text/x-python",
   "name": "python",
   "nbconvert_exporter": "python",
   "pygments_lexer": "ipython3",
   "version": "3.9.16"
  },
  "orig_nbformat": 4
 },
 "nbformat": 4,
 "nbformat_minor": 2
}
