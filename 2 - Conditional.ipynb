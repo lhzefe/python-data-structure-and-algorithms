{
 "cells": [
  {
   "cell_type": "markdown",
   "metadata": {},
   "source": [
    "<h1>Python Exercises</h1>\n",
    "<h2>Conditional (20 exercises)</h2>"
   ]
  },
  {
   "cell_type": "markdown",
   "metadata": {},
   "source": [
    "<h4>1. Make a program that requests a person's age and display if the person is older(overage) or younger(underage).</h4>"
   ]
  },
  {
   "cell_type": "code",
   "execution_count": null,
   "metadata": {},
   "outputs": [],
   "source": [
    "age = int(input(\"Enter with your age: \"))"
   ]
  },
  {
   "cell_type": "code",
   "execution_count": null,
   "metadata": {},
   "outputs": [],
   "source": [
    "if (age >= 0 and age < 18):\n",
    "    print(\"You are underage\")\n",
    "elif (age >= 18 and age < 130):\n",
    "    print(\"You are overage\")\n",
    "else:\n",
    "    print(\"The age you insert does't make sense\")"
   ]
  },
  {
   "cell_type": "markdown",
   "metadata": {},
   "source": [
    "<h4>2. Make a program that reads two numbers and inform what is the greater.<h4>"
   ]
  },
  {
   "cell_type": "code",
   "execution_count": null,
   "metadata": {},
   "outputs": [],
   "source": [
    "number_one = float(input(\"which is the first number that will be compared: \"))\n",
    "number_two = float(input(\"which is the second number that will be compared: \"))"
   ]
  },
  {
   "cell_type": "code",
   "execution_count": null,
   "metadata": {},
   "outputs": [],
   "source": [
    "if (number_one > number_two):\n",
    "    print(f\"The number {number_one} is greater than {number_two}\")\n",
    "elif (number_one < number_two):\n",
    "    print(f\"The number `{number_two} is greater than {number_one}\")\n",
    "else:\n",
    "    print(f\"The number the numbers are the same: {number_one}\")"
   ]
  },
  {
   "cell_type": "markdown",
   "metadata": {},
   "source": [
    "<h4>3. Write a program that asks the user for three numbers and displays the largest one.<h4>"
   ]
  },
  {
   "cell_type": "code",
   "execution_count": null,
   "metadata": {},
   "outputs": [],
   "source": [
    "number_first = float(input(\"Enter with the first number: \"))\n",
    "number_second = float(input(\"Enter with the second number: \"))\n",
    "number_third = float(input(\"Enter with the third number: \"))"
   ]
  },
  {
   "cell_type": "code",
   "execution_count": null,
   "metadata": {},
   "outputs": [],
   "source": [
    "if (number_first >= number_second) and (number_first >= number_third):\n",
    "    number_greater = number_first\n",
    "elif (number_second >= number_first) and (number_second >= number_third):\n",
    "    number_greater = number_second\n",
    "else:\n",
    "    number_greater = number_third\n",
    "print(f\"The number {number_greater} is the greater.\")"
   ]
  },
  {
   "cell_type": "markdown",
   "metadata": {},
   "source": [
    "<h4>4. Make a program that reads a number and tells you if it is even or odd.<h4>"
   ]
  },
  {
   "cell_type": "code",
   "execution_count": null,
   "metadata": {},
   "outputs": [],
   "source": [
    "number_even_odd = float(input(\"Enter with the number: \"))"
   ]
  },
  {
   "cell_type": "code",
   "execution_count": null,
   "metadata": {},
   "outputs": [],
   "source": [
    "if (number_even_odd % 2) == 0:\n",
    "    print(f\"The number {number_even_odd} is even.\")\n",
    "else:\n",
    "    print(f\"The number {number_even_odd} is odd.\")"
   ]
  },
  {
   "cell_type": "markdown",
   "metadata": {},
   "source": [
    "<h4>5. Make a program that reads a number and tells it whether it is positive, negative or zero.<h4>"
   ]
  },
  {
   "cell_type": "code",
   "execution_count": null,
   "metadata": {},
   "outputs": [],
   "source": [
    "number_signal = float(input(\"Insert a number: \"))"
   ]
  },
  {
   "cell_type": "code",
   "execution_count": null,
   "metadata": {},
   "outputs": [],
   "source": [
    "if number_signal > 0:\n",
    "    print(f\"The number {number_signal} is positive\")\n",
    "elif number_signal < 0:\n",
    "    print(f\"The number {number_signal} is negative\")\n",
    "else:\n",
    "    print(\"The number inserted was Zero\")"
   ]
  },
  {
   "cell_type": "markdown",
   "metadata": {},
   "source": [
    "<h4>6. Make a program that reads the grades of two tests and tells you whether the student passed (grade greater than or equal to 6) or failed (grade less than 6) each test.<h4>"
   ]
  },
  {
   "cell_type": "code",
   "execution_count": null,
   "metadata": {},
   "outputs": [],
   "source": [
    "grade_one = float(input(\"Insert the grade for the first exam: \"))\n",
    "grade_two = float(input(\"Insert the grade for the second exam: \"))"
   ]
  },
  {
   "cell_type": "code",
   "execution_count": null,
   "metadata": {},
   "outputs": [],
   "source": [
    "if grade_one >= 6:\n",
    "    print(\"You passed the first exam.\")\n",
    "else:\n",
    "    print(\"You failed the first exam.\")\n",
    "\n",
    "if grade_two >= 6:\n",
    "    print(\"You passed the second exam.\")\n",
    "else:\n",
    "    print(\"You failed the second exam.\")"
   ]
  },
  {
   "cell_type": "markdown",
   "metadata": {},
   "source": [
    "<h4>7. Make a program that reads the marks from two exames, calculates the simple arithmetic mean, and tells you whether the student passed (mean greater than or equal to 6) or failed (mean less than 6).<h4>"
   ]
  },
  {
   "cell_type": "code",
   "execution_count": null,
   "metadata": {},
   "outputs": [],
   "source": [
    "grade_one = float(input(\"Insert the grade for the first exam: \"))\n",
    "grade_two = float(input(\"Insert the grade for the second exam: \"))"
   ]
  },
  {
   "cell_type": "code",
   "execution_count": null,
   "metadata": {},
   "outputs": [],
   "source": [
    "average = (grade_one + grade_two)/2\n",
    "if average >= 6:\n",
    "    print(\"You have been approved with final grade {:.1f}\".format(average))\n",
    "else:\n",
    "    print(\"You have been reproved with final grade {:.1f}\".format(average))"
   ]
  },
  {
   "cell_type": "markdown",
   "metadata": {},
   "source": [
    "<h4>8. Make a program that reads three numbers and tells you if the sum of them is divisible by 5 or not.<h4>"
   ]
  },
  {
   "cell_type": "code",
   "execution_count": null,
   "metadata": {},
   "outputs": [],
   "source": [
    "number_first = float(input(\"Please enter the first number: \"))\n",
    "number_second = float(input(\"Please enter the second number: \"))\n",
    "number_third = float(input(\"Please enter the third number: \"))"
   ]
  },
  {
   "cell_type": "code",
   "execution_count": null,
   "metadata": {},
   "outputs": [],
   "source": [
    "numbers_sum = number_first + number_second + number_third\n",
    "if (numbers_sum % 5) == 0:\n",
    "    print(\"The sum of the numbers is divisible by 5\")\n",
    "else:\n",
    "    print(\"The sum of the numbers is not divisible by 5\")"
   ]
  },
  {
   "cell_type": "markdown",
   "metadata": {},
   "source": [
    "<h4>9. Create a program that reads three numbers and checks whether their sum is positive, negative or equal to zero.<h4>"
   ]
  },
  {
   "cell_type": "code",
   "execution_count": null,
   "metadata": {},
   "outputs": [],
   "source": [
    "number_first = float(input(\"Please enter the first number: \"))\n",
    "number_second = float(input(\"Please enter the second number: \"))\n",
    "number_third = float(input(\"Please enter the third number: \"))"
   ]
  },
  {
   "cell_type": "code",
   "execution_count": null,
   "metadata": {},
   "outputs": [],
   "source": [
    "numbers_sum = number_first + number_second + number_third\n",
    "if (numbers_sum > 0):\n",
    "    print(\"The sum of the numbers is positive\")\n",
    "elif (numbers_sum < 0):\n",
    "    print(\"The sum of the numbers is negative\")\n",
    "else:\n",
    "    print(\"The sum of the numbers is Zero\")"
   ]
  },
  {
   "cell_type": "markdown",
   "metadata": {},
   "source": [
    "<h4>10. Make a program that reads three numbers and displays them on the screen in ascending order.<h4>"
   ]
  },
  {
   "cell_type": "code",
   "execution_count": null,
   "metadata": {},
   "outputs": [],
   "source": [
    "number_first = float(input(\"Please enter the first number: \"))\n",
    "number_second = float(input(\"Please enter the second number: \"))\n",
    "number_third = float(input(\"Please enter the third number: \"))"
   ]
  },
  {
   "cell_type": "code",
   "execution_count": null,
   "metadata": {},
   "outputs": [],
   "source": [
    "if ((number_first <= number_second) and (number_first <= number_third)):\n",
    "    if (number_second <= number_third):\n",
    "        print (f\"The ascending order of the numbers is: {number_first}, {number_second} and {number_third}\")\n",
    "    else:\n",
    "        print (f\"The ascending order of the numbers is: {number_first}, {number_third} and {number_second}\")\n",
    "elif ((number_second <= number_first) and (number_second <= number_third)):\n",
    "    if (number_first <= number_third):\n",
    "        print (f\"The ascending order of the numbers is: {number_second}, {number_first} and {number_third}\")\n",
    "    else:\n",
    "        print (f\"The ascending order of the numbers is: {number_second}, {number_third} and {number_first}\")\n",
    "else:\n",
    "    if (number_first <= number_second):\n",
    "        print (f\"The ascending order of the numbers is: {number_third}, {number_first} and {number_second}\")\n",
    "    else:\n",
    "        print (f\"The ascending order of the numbers is: {number_third}, {number_second} and {number_first}\")"
   ]
  },
  {
   "cell_type": "markdown",
   "metadata": {},
   "source": [
    "<h4>11. Make a program that reads the ages of three people and tells how many of them are of legal age (18 or older). <h4>"
   ]
  },
  {
   "cell_type": "code",
   "execution_count": null,
   "metadata": {},
   "outputs": [],
   "source": [
    "age_one = int(input(\"Enter the first age: \"))\n",
    "age_two = int(input(\"Enter the second age: \"))\n",
    "age_three = int(input(\"Enter the third age: \"))"
   ]
  },
  {
   "cell_type": "code",
   "execution_count": null,
   "metadata": {},
   "outputs": [],
   "source": [
    "number_legal_age = 0\n",
    "if age_one >= 18:\n",
    "    number_legal_age+=1\n",
    "if age_two >= 18:\n",
    "    number_legal_age+=1\n",
    "if age_three >= 18:\n",
    "    number_legal_age+=1\n",
    "print(f\"The number people of legal age is: {number_legal_age}\")"
   ]
  },
  {
   "cell_type": "markdown",
   "metadata": {},
   "source": [
    "<h4>12. Make a program that reads three numbers and tells you if they can be the sides of a triangle (the sum of two sides must always be greater than the third side).<h4>"
   ]
  },
  {
   "cell_type": "code",
   "execution_count": null,
   "metadata": {},
   "outputs": [],
   "source": [
    "edge_one = float(input(\"Please enter the first number: \"))\n",
    "edge_two = float(input(\"Please enter the second number: \"))\n",
    "edge_three = float(input(\"Please enter the third number: \"))"
   ]
  },
  {
   "cell_type": "code",
   "execution_count": null,
   "metadata": {},
   "outputs": [],
   "source": [
    "if (edge_one + edge_two > edge_three):\n",
    "    if (edge_one + edge_three > edge_two):\n",
    "        if (edge_two + edge_three > edge_one):\n",
    "            print(\"a triangle can be created.\")\n",
    "else:\n",
    "    print(\"It's not possible to create a triangle with the numbers.\")\n"
   ]
  }
 ],
 "metadata": {
  "kernelspec": {
   "display_name": "DataScience",
   "language": "python",
   "name": "python3"
  },
  "language_info": {
   "codemirror_mode": {
    "name": "ipython",
    "version": 3
   },
   "file_extension": ".py",
   "mimetype": "text/x-python",
   "name": "python",
   "nbconvert_exporter": "python",
   "pygments_lexer": "ipython3",
   "version": "3.9.16"
  },
  "orig_nbformat": 4
 },
 "nbformat": 4,
 "nbformat_minor": 2
}
